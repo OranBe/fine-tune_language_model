{
  "cells": [
    {
      "cell_type": "markdown",
      "metadata": {
        "id": "6H3kGaaDjp1W"
      },
      "source": [
        "# The task description\n"
      ]
    },
    {
      "cell_type": "markdown",
      "metadata": {
        "id": "1QsTN1iwkbmv"
      },
      "source": [
        "The following [dataset](https://github.com/PolyAI-LDN/task-specific-datasets/tree/master/banking_data) contains data about a customer service system in a US bank. The data set contains the customer request (txt) and the label - the category of the request.\n",
        "\n",
        "You are asked to build a standard model that predicts this label. The task steps:\n",
        "\n",
        "\n",
        "\n",
        "*   **Data exploration** - In this section, you will be asked to extract statistical information about the data. General Information about the dataset, and a plot about the distribution of the **meaningful** words in the dataset.\n",
        "\n",
        "\n",
        "\n",
        "*   **Text Classification** - In this part, you are asked to fine-tune a pre-trained language model (search for an appropriate model from [Huginggface](https://huggingface.co/) ). After training the model you will be asked to evaluate the model results with 3 common metrics for the classification task.\n",
        "\n",
        "\n",
        "**Make a plot on which we can calculate the metrics you chose above and many more.**\n",
        "\n",
        "\n",
        "\n"
      ]
    },
    {
      "cell_type": "markdown",
      "metadata": {
        "id": "jqzY_SfP5Sfp"
      },
      "source": [
        "### *Notes*\n",
        "\n",
        "- The colab offers free GPU usage up to a certain amount. Use it to train effectively.\n",
        "\n",
        "- The most important thing here is self-learning ability, since you may encounter something you have not learned yet. It is not as important to achieve high-accuracy results as it is to understand what exactly you are doing."
      ]
    },
    {
      "cell_type": "markdown",
      "metadata": {
        "id": "XFlx7ylGsScf"
      },
      "source": [
        "# The notebook contains 3 main parts\n",
        " - ### Preprocessing\n",
        " - ### Data Exploration\n",
        " - ### Text Classification"
      ]
    },
    {
      "cell_type": "markdown",
      "metadata": {
        "id": "thppdFsGtEyT"
      },
      "source": [
        "# Preprocessing\n",
        "##### 1. Download the task files from google drive\n",
        "##### 2. Convert the data structures csv to DataFrame\n",
        "##### 3. Convert labels categorical to numeric\n",
        "##### 4. Convert the DataFrame to DatasetDict"
      ]
    },
    {
      "cell_type": "code",
      "execution_count": null,
      "metadata": {
        "colab": {
          "base_uri": "https://localhost:8080/"
        },
        "id": "L7PYEoOxwDjH",
        "outputId": "71a68654-ebce-4932-bcc1-7f6b45c8995b"
      },
      "outputs": [
        {
          "output_type": "stream",
          "name": "stdout",
          "text": [
            "Collecting datasets\n",
            "  Downloading datasets-2.13.1-py3-none-any.whl (486 kB)\n",
            "\u001b[2K     \u001b[90m━━━━━━━━━━━━━━━━━━━━━━━━━━━━━━━━━━━━━━━\u001b[0m \u001b[32m486.2/486.2 kB\u001b[0m \u001b[31m4.3 MB/s\u001b[0m eta \u001b[36m0:00:00\u001b[0m\n",
            "\u001b[?25hRequirement already satisfied: numpy>=1.17 in /usr/local/lib/python3.10/dist-packages (from datasets) (1.22.4)\n",
            "Requirement already satisfied: pyarrow>=8.0.0 in /usr/local/lib/python3.10/dist-packages (from datasets) (9.0.0)\n",
            "Collecting dill<0.3.7,>=0.3.0 (from datasets)\n",
            "  Downloading dill-0.3.6-py3-none-any.whl (110 kB)\n",
            "\u001b[2K     \u001b[90m━━━━━━━━━━━━━━━━━━━━━━━━━━━━━━━━━━━━━━━\u001b[0m \u001b[32m110.5/110.5 kB\u001b[0m \u001b[31m4.8 MB/s\u001b[0m eta \u001b[36m0:00:00\u001b[0m\n",
            "\u001b[?25hRequirement already satisfied: pandas in /usr/local/lib/python3.10/dist-packages (from datasets) (1.5.3)\n",
            "Requirement already satisfied: requests>=2.19.0 in /usr/local/lib/python3.10/dist-packages (from datasets) (2.27.1)\n",
            "Requirement already satisfied: tqdm>=4.62.1 in /usr/local/lib/python3.10/dist-packages (from datasets) (4.65.0)\n",
            "Collecting xxhash (from datasets)\n",
            "  Downloading xxhash-3.2.0-cp310-cp310-manylinux_2_17_x86_64.manylinux2014_x86_64.whl (212 kB)\n",
            "\u001b[2K     \u001b[90m━━━━━━━━━━━━━━━━━━━━━━━━━━━━━━━━━━━━━━━\u001b[0m \u001b[32m212.5/212.5 kB\u001b[0m \u001b[31m4.5 MB/s\u001b[0m eta \u001b[36m0:00:00\u001b[0m\n",
            "\u001b[?25hCollecting multiprocess (from datasets)\n",
            "  Downloading multiprocess-0.70.14-py310-none-any.whl (134 kB)\n",
            "\u001b[2K     \u001b[90m━━━━━━━━━━━━━━━━━━━━━━━━━━━━━━━━━━━━━━━\u001b[0m \u001b[32m134.3/134.3 kB\u001b[0m \u001b[31m5.7 MB/s\u001b[0m eta \u001b[36m0:00:00\u001b[0m\n",
            "\u001b[?25hRequirement already satisfied: fsspec[http]>=2021.11.1 in /usr/local/lib/python3.10/dist-packages (from datasets) (2023.6.0)\n",
            "Requirement already satisfied: aiohttp in /usr/local/lib/python3.10/dist-packages (from datasets) (3.8.4)\n",
            "Collecting huggingface-hub<1.0.0,>=0.11.0 (from datasets)\n",
            "  Downloading huggingface_hub-0.16.4-py3-none-any.whl (268 kB)\n",
            "\u001b[2K     \u001b[90m━━━━━━━━━━━━━━━━━━━━━━━━━━━━━━━━━━━━━━━\u001b[0m \u001b[32m268.8/268.8 kB\u001b[0m \u001b[31m7.6 MB/s\u001b[0m eta \u001b[36m0:00:00\u001b[0m\n",
            "\u001b[?25hRequirement already satisfied: packaging in /usr/local/lib/python3.10/dist-packages (from datasets) (23.1)\n",
            "Requirement already satisfied: pyyaml>=5.1 in /usr/local/lib/python3.10/dist-packages (from datasets) (6.0)\n",
            "Requirement already satisfied: attrs>=17.3.0 in /usr/local/lib/python3.10/dist-packages (from aiohttp->datasets) (23.1.0)\n",
            "Requirement already satisfied: charset-normalizer<4.0,>=2.0 in /usr/local/lib/python3.10/dist-packages (from aiohttp->datasets) (2.0.12)\n",
            "Requirement already satisfied: multidict<7.0,>=4.5 in /usr/local/lib/python3.10/dist-packages (from aiohttp->datasets) (6.0.4)\n",
            "Requirement already satisfied: async-timeout<5.0,>=4.0.0a3 in /usr/local/lib/python3.10/dist-packages (from aiohttp->datasets) (4.0.2)\n",
            "Requirement already satisfied: yarl<2.0,>=1.0 in /usr/local/lib/python3.10/dist-packages (from aiohttp->datasets) (1.9.2)\n",
            "Requirement already satisfied: frozenlist>=1.1.1 in /usr/local/lib/python3.10/dist-packages (from aiohttp->datasets) (1.4.0)\n",
            "Requirement already satisfied: aiosignal>=1.1.2 in /usr/local/lib/python3.10/dist-packages (from aiohttp->datasets) (1.3.1)\n",
            "Requirement already satisfied: filelock in /usr/local/lib/python3.10/dist-packages (from huggingface-hub<1.0.0,>=0.11.0->datasets) (3.12.2)\n",
            "Requirement already satisfied: typing-extensions>=3.7.4.3 in /usr/local/lib/python3.10/dist-packages (from huggingface-hub<1.0.0,>=0.11.0->datasets) (4.7.1)\n",
            "Requirement already satisfied: urllib3<1.27,>=1.21.1 in /usr/local/lib/python3.10/dist-packages (from requests>=2.19.0->datasets) (1.26.16)\n",
            "Requirement already satisfied: certifi>=2017.4.17 in /usr/local/lib/python3.10/dist-packages (from requests>=2.19.0->datasets) (2023.5.7)\n",
            "Requirement already satisfied: idna<4,>=2.5 in /usr/local/lib/python3.10/dist-packages (from requests>=2.19.0->datasets) (3.4)\n",
            "Requirement already satisfied: python-dateutil>=2.8.1 in /usr/local/lib/python3.10/dist-packages (from pandas->datasets) (2.8.2)\n",
            "Requirement already satisfied: pytz>=2020.1 in /usr/local/lib/python3.10/dist-packages (from pandas->datasets) (2022.7.1)\n",
            "Requirement already satisfied: six>=1.5 in /usr/local/lib/python3.10/dist-packages (from python-dateutil>=2.8.1->pandas->datasets) (1.16.0)\n",
            "Installing collected packages: xxhash, dill, multiprocess, huggingface-hub, datasets\n",
            "Successfully installed datasets-2.13.1 dill-0.3.6 huggingface-hub-0.16.4 multiprocess-0.70.14 xxhash-3.2.0\n",
            "Collecting transformers\n",
            "  Downloading transformers-4.31.0-py3-none-any.whl (7.4 MB)\n",
            "\u001b[2K     \u001b[90m━━━━━━━━━━━━━━━━━━━━━━━━━━━━━━━━━━━━━━━━\u001b[0m \u001b[32m7.4/7.4 MB\u001b[0m \u001b[31m32.0 MB/s\u001b[0m eta \u001b[36m0:00:00\u001b[0m\n",
            "\u001b[?25hRequirement already satisfied: filelock in /usr/local/lib/python3.10/dist-packages (from transformers) (3.12.2)\n",
            "Requirement already satisfied: huggingface-hub<1.0,>=0.14.1 in /usr/local/lib/python3.10/dist-packages (from transformers) (0.16.4)\n",
            "Requirement already satisfied: numpy>=1.17 in /usr/local/lib/python3.10/dist-packages (from transformers) (1.22.4)\n",
            "Requirement already satisfied: packaging>=20.0 in /usr/local/lib/python3.10/dist-packages (from transformers) (23.1)\n",
            "Requirement already satisfied: pyyaml>=5.1 in /usr/local/lib/python3.10/dist-packages (from transformers) (6.0)\n",
            "Requirement already satisfied: regex!=2019.12.17 in /usr/local/lib/python3.10/dist-packages (from transformers) (2022.10.31)\n",
            "Requirement already satisfied: requests in /usr/local/lib/python3.10/dist-packages (from transformers) (2.27.1)\n",
            "Collecting tokenizers!=0.11.3,<0.14,>=0.11.1 (from transformers)\n",
            "  Downloading tokenizers-0.13.3-cp310-cp310-manylinux_2_17_x86_64.manylinux2014_x86_64.whl (7.8 MB)\n",
            "\u001b[2K     \u001b[90m━━━━━━━━━━━━━━━━━━━━━━━━━━━━━━━━━━━━━━━━\u001b[0m \u001b[32m7.8/7.8 MB\u001b[0m \u001b[31m46.5 MB/s\u001b[0m eta \u001b[36m0:00:00\u001b[0m\n",
            "\u001b[?25hCollecting safetensors>=0.3.1 (from transformers)\n",
            "  Downloading safetensors-0.3.1-cp310-cp310-manylinux_2_17_x86_64.manylinux2014_x86_64.whl (1.3 MB)\n",
            "\u001b[2K     \u001b[90m━━━━━━━━━━━━━━━━━━━━━━━━━━━━━━━━━━━━━━━━\u001b[0m \u001b[32m1.3/1.3 MB\u001b[0m \u001b[31m57.1 MB/s\u001b[0m eta \u001b[36m0:00:00\u001b[0m\n",
            "\u001b[?25hRequirement already satisfied: tqdm>=4.27 in /usr/local/lib/python3.10/dist-packages (from transformers) (4.65.0)\n",
            "Requirement already satisfied: fsspec in /usr/local/lib/python3.10/dist-packages (from huggingface-hub<1.0,>=0.14.1->transformers) (2023.6.0)\n",
            "Requirement already satisfied: typing-extensions>=3.7.4.3 in /usr/local/lib/python3.10/dist-packages (from huggingface-hub<1.0,>=0.14.1->transformers) (4.7.1)\n",
            "Requirement already satisfied: urllib3<1.27,>=1.21.1 in /usr/local/lib/python3.10/dist-packages (from requests->transformers) (1.26.16)\n",
            "Requirement already satisfied: certifi>=2017.4.17 in /usr/local/lib/python3.10/dist-packages (from requests->transformers) (2023.5.7)\n",
            "Requirement already satisfied: charset-normalizer~=2.0.0 in /usr/local/lib/python3.10/dist-packages (from requests->transformers) (2.0.12)\n",
            "Requirement already satisfied: idna<4,>=2.5 in /usr/local/lib/python3.10/dist-packages (from requests->transformers) (3.4)\n",
            "Installing collected packages: tokenizers, safetensors, transformers\n",
            "Successfully installed safetensors-0.3.1 tokenizers-0.13.3 transformers-4.31.0\n",
            "Collecting accelerate\n",
            "  Downloading accelerate-0.21.0-py3-none-any.whl (244 kB)\n",
            "\u001b[2K     \u001b[90m━━━━━━━━━━━━━━━━━━━━━━━━━━━━━━━━━━━━━━━\u001b[0m \u001b[32m244.2/244.2 kB\u001b[0m \u001b[31m4.6 MB/s\u001b[0m eta \u001b[36m0:00:00\u001b[0m\n",
            "\u001b[?25hRequirement already satisfied: numpy>=1.17 in /usr/local/lib/python3.10/dist-packages (from accelerate) (1.22.4)\n",
            "Requirement already satisfied: packaging>=20.0 in /usr/local/lib/python3.10/dist-packages (from accelerate) (23.1)\n",
            "Requirement already satisfied: psutil in /usr/local/lib/python3.10/dist-packages (from accelerate) (5.9.5)\n",
            "Requirement already satisfied: pyyaml in /usr/local/lib/python3.10/dist-packages (from accelerate) (6.0)\n",
            "Requirement already satisfied: torch>=1.10.0 in /usr/local/lib/python3.10/dist-packages (from accelerate) (2.0.1+cu118)\n",
            "Requirement already satisfied: filelock in /usr/local/lib/python3.10/dist-packages (from torch>=1.10.0->accelerate) (3.12.2)\n",
            "Requirement already satisfied: typing-extensions in /usr/local/lib/python3.10/dist-packages (from torch>=1.10.0->accelerate) (4.7.1)\n",
            "Requirement already satisfied: sympy in /usr/local/lib/python3.10/dist-packages (from torch>=1.10.0->accelerate) (1.11.1)\n",
            "Requirement already satisfied: networkx in /usr/local/lib/python3.10/dist-packages (from torch>=1.10.0->accelerate) (3.1)\n",
            "Requirement already satisfied: jinja2 in /usr/local/lib/python3.10/dist-packages (from torch>=1.10.0->accelerate) (3.1.2)\n",
            "Requirement already satisfied: triton==2.0.0 in /usr/local/lib/python3.10/dist-packages (from torch>=1.10.0->accelerate) (2.0.0)\n",
            "Requirement already satisfied: cmake in /usr/local/lib/python3.10/dist-packages (from triton==2.0.0->torch>=1.10.0->accelerate) (3.25.2)\n",
            "Requirement already satisfied: lit in /usr/local/lib/python3.10/dist-packages (from triton==2.0.0->torch>=1.10.0->accelerate) (16.0.6)\n",
            "Requirement already satisfied: MarkupSafe>=2.0 in /usr/local/lib/python3.10/dist-packages (from jinja2->torch>=1.10.0->accelerate) (2.1.3)\n",
            "Requirement already satisfied: mpmath>=0.19 in /usr/local/lib/python3.10/dist-packages (from sympy->torch>=1.10.0->accelerate) (1.3.0)\n",
            "Installing collected packages: accelerate\n",
            "Successfully installed accelerate-0.21.0\n",
            "Collecting evaluate\n",
            "  Downloading evaluate-0.4.0-py3-none-any.whl (81 kB)\n",
            "\u001b[2K     \u001b[90m━━━━━━━━━━━━━━━━━━━━━━━━━━━━━━━━━━━━━━━━\u001b[0m \u001b[32m81.4/81.4 kB\u001b[0m \u001b[31m1.3 MB/s\u001b[0m eta \u001b[36m0:00:00\u001b[0m\n",
            "\u001b[?25hRequirement already satisfied: datasets>=2.0.0 in /usr/local/lib/python3.10/dist-packages (from evaluate) (2.13.1)\n",
            "Requirement already satisfied: numpy>=1.17 in /usr/local/lib/python3.10/dist-packages (from evaluate) (1.22.4)\n",
            "Requirement already satisfied: dill in /usr/local/lib/python3.10/dist-packages (from evaluate) (0.3.6)\n",
            "Requirement already satisfied: pandas in /usr/local/lib/python3.10/dist-packages (from evaluate) (1.5.3)\n",
            "Requirement already satisfied: requests>=2.19.0 in /usr/local/lib/python3.10/dist-packages (from evaluate) (2.27.1)\n",
            "Requirement already satisfied: tqdm>=4.62.1 in /usr/local/lib/python3.10/dist-packages (from evaluate) (4.65.0)\n",
            "Requirement already satisfied: xxhash in /usr/local/lib/python3.10/dist-packages (from evaluate) (3.2.0)\n",
            "Requirement already satisfied: multiprocess in /usr/local/lib/python3.10/dist-packages (from evaluate) (0.70.14)\n",
            "Requirement already satisfied: fsspec[http]>=2021.05.0 in /usr/local/lib/python3.10/dist-packages (from evaluate) (2023.6.0)\n",
            "Requirement already satisfied: huggingface-hub>=0.7.0 in /usr/local/lib/python3.10/dist-packages (from evaluate) (0.16.4)\n",
            "Requirement already satisfied: packaging in /usr/local/lib/python3.10/dist-packages (from evaluate) (23.1)\n",
            "Collecting responses<0.19 (from evaluate)\n",
            "  Downloading responses-0.18.0-py3-none-any.whl (38 kB)\n",
            "Requirement already satisfied: pyarrow>=8.0.0 in /usr/local/lib/python3.10/dist-packages (from datasets>=2.0.0->evaluate) (9.0.0)\n",
            "Requirement already satisfied: aiohttp in /usr/local/lib/python3.10/dist-packages (from datasets>=2.0.0->evaluate) (3.8.4)\n",
            "Requirement already satisfied: pyyaml>=5.1 in /usr/local/lib/python3.10/dist-packages (from datasets>=2.0.0->evaluate) (6.0)\n",
            "Requirement already satisfied: filelock in /usr/local/lib/python3.10/dist-packages (from huggingface-hub>=0.7.0->evaluate) (3.12.2)\n",
            "Requirement already satisfied: typing-extensions>=3.7.4.3 in /usr/local/lib/python3.10/dist-packages (from huggingface-hub>=0.7.0->evaluate) (4.7.1)\n",
            "Requirement already satisfied: urllib3<1.27,>=1.21.1 in /usr/local/lib/python3.10/dist-packages (from requests>=2.19.0->evaluate) (1.26.16)\n",
            "Requirement already satisfied: certifi>=2017.4.17 in /usr/local/lib/python3.10/dist-packages (from requests>=2.19.0->evaluate) (2023.5.7)\n",
            "Requirement already satisfied: charset-normalizer~=2.0.0 in /usr/local/lib/python3.10/dist-packages (from requests>=2.19.0->evaluate) (2.0.12)\n",
            "Requirement already satisfied: idna<4,>=2.5 in /usr/local/lib/python3.10/dist-packages (from requests>=2.19.0->evaluate) (3.4)\n",
            "Requirement already satisfied: python-dateutil>=2.8.1 in /usr/local/lib/python3.10/dist-packages (from pandas->evaluate) (2.8.2)\n",
            "Requirement already satisfied: pytz>=2020.1 in /usr/local/lib/python3.10/dist-packages (from pandas->evaluate) (2022.7.1)\n",
            "Requirement already satisfied: attrs>=17.3.0 in /usr/local/lib/python3.10/dist-packages (from aiohttp->datasets>=2.0.0->evaluate) (23.1.0)\n",
            "Requirement already satisfied: multidict<7.0,>=4.5 in /usr/local/lib/python3.10/dist-packages (from aiohttp->datasets>=2.0.0->evaluate) (6.0.4)\n",
            "Requirement already satisfied: async-timeout<5.0,>=4.0.0a3 in /usr/local/lib/python3.10/dist-packages (from aiohttp->datasets>=2.0.0->evaluate) (4.0.2)\n",
            "Requirement already satisfied: yarl<2.0,>=1.0 in /usr/local/lib/python3.10/dist-packages (from aiohttp->datasets>=2.0.0->evaluate) (1.9.2)\n",
            "Requirement already satisfied: frozenlist>=1.1.1 in /usr/local/lib/python3.10/dist-packages (from aiohttp->datasets>=2.0.0->evaluate) (1.4.0)\n",
            "Requirement already satisfied: aiosignal>=1.1.2 in /usr/local/lib/python3.10/dist-packages (from aiohttp->datasets>=2.0.0->evaluate) (1.3.1)\n",
            "Requirement already satisfied: six>=1.5 in /usr/local/lib/python3.10/dist-packages (from python-dateutil>=2.8.1->pandas->evaluate) (1.16.0)\n",
            "Installing collected packages: responses, evaluate\n",
            "Successfully installed evaluate-0.4.0 responses-0.18.0\n"
          ]
        }
      ],
      "source": [
        "!pip install datasets\n",
        "!pip install transformers\n",
        "!pip install accelerate -U\n",
        "!pip install evaluate\n",
        "\n",
        "import requests\n",
        "import pandas as pd\n",
        "import json\n",
        "from datasets import Dataset\n",
        "from datasets import DatasetDict"
      ]
    },
    {
      "cell_type": "markdown",
      "metadata": {
        "id": "_HlL0jJ9ub1p"
      },
      "source": [
        "### 1. Download the task files from google drive"
      ]
    },
    {
      "cell_type": "code",
      "execution_count": null,
      "metadata": {
        "id": "GSe9A3wb-qus"
      },
      "outputs": [],
      "source": [
        "# download categories.json\n",
        "response = requests.get('https://drive.google.com/uc?id=1TcTrEd3u0HVbwedY81PZl1HzUtWKUFtx')\n",
        "with open('categories.json', 'wb') as file:\n",
        "    file.write(response.content)\n",
        "\n",
        "# download test.csv\n",
        "response = requests.get('https://drive.google.com/uc?id=1j0uRDO02z2ymh5FPj-LmJ3_mbn_9T_yb')\n",
        "with open('test.csv', 'wb') as file:\n",
        "    file.write(response.content)\n",
        "\n",
        "#download train.csv\n",
        "response = requests.get('https://drive.google.com/uc?id=1DAgP-L0ipaWUF9dQSF0b-_FD0prENtNM&export=download')\n",
        "with open('train.csv', 'wb') as file:\n",
        "    file.write(response.content)"
      ]
    },
    {
      "cell_type": "markdown",
      "metadata": {
        "id": "7bWNiJnztYMb"
      },
      "source": [
        "### 2. Convert the data structures csv to DataFrame"
      ]
    },
    {
      "cell_type": "code",
      "execution_count": null,
      "metadata": {
        "id": "aVq0OS40tMLF"
      },
      "outputs": [],
      "source": [
        "trainDF = pd.read_csv('train.csv')\n",
        "testDF = pd.read_csv('test.csv')"
      ]
    },
    {
      "cell_type": "markdown",
      "metadata": {
        "id": "TgfPlvCqt_qn"
      },
      "source": [
        "### 3. Convert labels categorical to numeric"
      ]
    },
    {
      "cell_type": "code",
      "execution_count": null,
      "metadata": {
        "id": "b5bB1ihIt32u"
      },
      "outputs": [],
      "source": [
        "with open('/content/categories.json', 'r') as json_file:\n",
        "    data = json.load(json_file)\n",
        "\n",
        "label_mapping = {value: index for index, value in enumerate(data)}\n",
        "\n",
        "def convert_labels_to_numeric(df, column_name):\n",
        "    label_mapping = {label: i for i, label in enumerate(df[column_name].unique())}\n",
        "    df[column_name] = df[column_name].map(label_mapping)\n",
        "    return df\n",
        "\n",
        "# Convert labels to numeric values\n",
        "trainDFnumeric = convert_labels_to_numeric(trainDF.copy(), \"category\")\n",
        "testDFnumeric = convert_labels_to_numeric(testDF.copy(), \"category\")\n",
        "trainDFnumeric = trainDFnumeric.rename(columns={'category': 'label'})\n",
        "testDFnumeric = testDFnumeric.rename(columns={'category': 'label'})"
      ]
    },
    {
      "cell_type": "markdown",
      "metadata": {
        "id": "EzZ395UEvavx"
      },
      "source": [
        "### 4. Convert the DataFrame to DatasetDict"
      ]
    },
    {
      "cell_type": "code",
      "execution_count": null,
      "metadata": {
        "colab": {
          "base_uri": "https://localhost:8080/"
        },
        "id": "tYQLtfnpvWQf",
        "outputId": "cb1d0cf0-da88-423e-c468-2e66dcc52b1b"
      },
      "outputs": [
        {
          "output_type": "stream",
          "name": "stdout",
          "text": [
            "DatasetDict({\n",
            "    train: Dataset({\n",
            "        features: ['text', 'label'],\n",
            "        num_rows: 10003\n",
            "    })\n",
            "    test: Dataset({\n",
            "        features: ['text', 'label'],\n",
            "        num_rows: 3080\n",
            "    })\n",
            "})\n"
          ]
        }
      ],
      "source": [
        "dataset_train = Dataset.from_pandas(trainDFnumeric)\n",
        "dataset_test = Dataset.from_pandas(testDFnumeric)\n",
        "\n",
        "dataset_dict = DatasetDict({\"train\": dataset_train, \"test\": dataset_test})\n",
        "print(dataset_dict)"
      ]
    },
    {
      "cell_type": "markdown",
      "metadata": {
        "id": "TozprXxGrFzM"
      },
      "source": [
        "# Data Exploration\n",
        "*   Printing the first 10 records in the training file and in the test file\n",
        "*   Printing the frequency of the categories in the training file and the test file\n",
        "*   Performing tokenization and displaying word frequency\n",
        "*   Showing word frequency after removing stop words\n",
        "\n",
        "\n"
      ]
    },
    {
      "cell_type": "code",
      "execution_count": null,
      "metadata": {
        "id": "lhEzojyIpYoY"
      },
      "outputs": [],
      "source": [
        "import evaluate\n",
        "import numpy as np\n",
        "import matplotlib.pyplot as plt\n",
        "\n",
        "import nltk\n",
        "from nltk import FreqDist\n",
        "from nltk.corpus import stopwords\n",
        "from nltk.tokenize import word_tokenize\n",
        "\n",
        "from transformers import AutoModelForSequenceClassification # Building a model\n",
        "from transformers import AutoTokenizer, TrainingArguments, Trainer\n",
        "from sklearn.metrics import precision_score, recall_score, f1_score"
      ]
    },
    {
      "cell_type": "markdown",
      "metadata": {
        "id": "zxplhubdmauo"
      },
      "source": [
        "  ####  Printing the first 10 records in the training file and in the test file"
      ]
    },
    {
      "cell_type": "code",
      "execution_count": null,
      "metadata": {
        "colab": {
          "base_uri": "https://localhost:8080/"
        },
        "id": "kEnD8ftgDB9M",
        "outputId": "a75832a2-74e5-44ac-c18b-652576031944"
      },
      "outputs": [
        {
          "output_type": "stream",
          "name": "stdout",
          "text": [
            "train\n",
            "        text category\n",
            "count  10003    10003\n",
            "                                                text      category\n",
            "0                     I am still waiting on my card?  card_arrival\n",
            "1  What can I do if my card still hasn't arrived ...  card_arrival\n",
            "2  I have been waiting over a week. Is the card s...  card_arrival\n",
            "3  Can I track my card while it is in the process...  card_arrival\n",
            "4  How do I know if I will get my card, or if it ...  card_arrival\n",
            "5                  When did you send me my new card?  card_arrival\n",
            "6       Do you have info about the card on delivery?  card_arrival\n",
            "7  What do I do if I still have not received my n...  card_arrival\n",
            "8       Does the package with my card have tracking?  card_arrival\n",
            "9          I ordered my card but it still isn't here  card_arrival\n",
            "------------------------------------------------------------------ \n",
            "------------------------------------------------------------------ \n",
            "test\n",
            "       text category\n",
            "count  3080     3080\n",
            "                                                text      category\n",
            "0                           How do I locate my card?  card_arrival\n",
            "1  I still have not received my new card, I order...  card_arrival\n",
            "2  I ordered a card but it has not arrived. Help ...  card_arrival\n",
            "3   Is there a way to know when my card will arrive?  card_arrival\n",
            "4                       My card has not arrived yet.  card_arrival\n",
            "5                           When will I get my card?  card_arrival\n",
            "6  Do you know if there is a tracking number for ...  card_arrival\n",
            "7                        i have not received my card  card_arrival\n",
            "8                         still waiting on that card  card_arrival\n",
            "9  Is it normal to have to wait over a week for m...  card_arrival\n"
          ]
        }
      ],
      "source": [
        "print(\"train\")\n",
        "print(trainDF.describe().head(1))\n",
        "print(trainDF.head(10))\n",
        "print(\"------------------------------------------------------------------ \")\n",
        "print(\"------------------------------------------------------------------ \")\n",
        "print(\"test\")\n",
        "print(testDF.describe().head(1))\n",
        "print(testDF.head(10))"
      ]
    },
    {
      "cell_type": "markdown",
      "metadata": {
        "id": "y154YLzsnpmY"
      },
      "source": [
        "  ####  Printing the frequency of the categories in the training file and the test file"
      ]
    },
    {
      "cell_type": "code",
      "execution_count": null,
      "metadata": {
        "colab": {
          "base_uri": "https://localhost:8080/",
          "height": 899
        },
        "id": "5tPsavsfkf6w",
        "outputId": "68979804-ead5-4711-9914-113956e72fda"
      },
      "outputs": [
        {
          "output_type": "display_data",
          "data": {
            "text/plain": [
              "<Figure size 640x480 with 1 Axes>"
            ],
            "image/png": "[encoded data removed]"
          },
          "metadata": {}
        },
        {
          "output_type": "display_data",
          "data": {
            "text/plain": [
              "<Figure size 640x480 with 1 Axes>"
            ],
            "image/png": "[encoded data removed]"
          },
          "metadata": {}
        }
      ],
      "source": [
        "category_counts = trainDF['category'].value_counts()\n",
        "\n",
        "# Create a bar plot\n",
        "ax = category_counts.plot(kind='bar')\n",
        "\n",
        "plt.xlabel('Category')\n",
        "plt.ylabel('Frequency')\n",
        "plt.title('train Frequency of Categories')\n",
        "# Hide the X axis tick labels\n",
        "ax.set_xticklabels([])\n",
        "\n",
        "plt.show()\n",
        "\n",
        "\n",
        "# Count the frequency of each value in the \"category\" column\n",
        "category_counts = testDF['category'].value_counts()\n",
        "\n",
        "# Create a bar plot\n",
        "ax = category_counts.plot(kind='bar')\n",
        "\n",
        "# Set labels and title\n",
        "plt.xlabel('Category')\n",
        "plt.ylabel('Frequency')\n",
        "plt.title(' test Frequency of Categories')\n",
        "# Hide the X axis tick labels\n",
        "ax.set_xticklabels([])\n",
        "\n",
        "plt.show()"
      ]
    },
    {
      "cell_type": "markdown",
      "source": [
        "#### Performing tokenization and displaying word frequency"
      ],
      "metadata": {
        "id": "1SK1yxclH31P"
      }
    },
    {
      "cell_type": "code",
      "execution_count": null,
      "metadata": {
        "colab": {
          "base_uri": "https://localhost:8080/"
        },
        "id": "-lY2x4br_aG6",
        "outputId": "90471e47-86fc-44e8-abec-ce4271f063b7"
      },
      "outputs": [
        {
          "output_type": "stream",
          "name": "stderr",
          "text": [
            "[nltk_data] Downloading package punkt to /root/nltk_data...\n",
            "[nltk_data]   Unzipping tokenizers/punkt.zip.\n"
          ]
        },
        {
          "output_type": "stream",
          "name": "stdout",
          "text": [
            "[('I', 8337), ('?', 6505), ('my', 5041), ('.', 4301), ('to', 4032), ('a', 3498), ('the', 3195), ('card', 2663), ('is', 2042), ('do', 1936), ('it', 1863), (\"n't\", 1581), (',', 1561), ('for', 1557), ('account', 1347), ('and', 1209), ('you', 1200), ('was', 1138), ('money', 1122), ('How', 1117)]\n"
          ]
        }
      ],
      "source": [
        "nltk.download('punkt')\n",
        "\n",
        "# Tokenize the text\n",
        "tokens = [word for text in trainDF['text'] for word in word_tokenize(text)]\n",
        "\n",
        "# Compute word frequencies\n",
        "word_freq = FreqDist(tokens)\n",
        "\n",
        "# Display the most common words\n",
        "print(word_freq.most_common(20))\n"
      ]
    },
    {
      "cell_type": "code",
      "execution_count": null,
      "metadata": {
        "colab": {
          "base_uri": "https://localhost:8080/",
          "height": 607
        },
        "id": "Zq3Mc1TsnbfJ",
        "outputId": "cc9a15e0-15a4-4837-ee0a-8171bd04bfb8"
      },
      "outputs": [
        {
          "output_type": "display_data",
          "data": {
            "text/plain": [
              "<Figure size 1000x600 with 1 Axes>"
            ],
            "image/png": "[encoded data removed]"
          },
          "metadata": {}
        }
      ],
      "source": [
        "# Get the words and frequencies from word_freq\n",
        "words, frequencies = zip(*word_freq.most_common(25))\n",
        "\n",
        "# Plot the word frequencies as a bar graph\n",
        "plt.figure(figsize=(10, 6))\n",
        "plt.bar(words, frequencies)\n",
        "plt.xlabel('Words')\n",
        "plt.ylabel('Frequency')\n",
        "plt.title('Word Frequencies')\n",
        "plt.xticks(rotation=90)\n",
        "plt.tight_layout()\n",
        "plt.show()"
      ]
    },
    {
      "cell_type": "markdown",
      "metadata": {
        "id": "MI2KSsKLnCjK"
      },
      "source": [
        "##### We see that there are many stop words like \"my, to, a, the, do, is, it,for\" so we remove them\n",
        "\n",
        "#### Showing word frequency after removing stop words"
      ]
    },
    {
      "cell_type": "code",
      "execution_count": null,
      "metadata": {
        "colab": {
          "base_uri": "https://localhost:8080/",
          "height": 181,
          "referenced_widgets": [
            "24051ccf944f4e199da6cce9d77ace6e",
            "b2dcf29a30f74c3589e555d9cadaef37",
            "ac45a3a674ae4bacbb8422ca894de917",
            "4b89473d206f438eb92534556a15aa93",
            "acb0950ce0a74d3bbb80a35d47be206c",
            "7890bd197e28419bac1af26712ff758f",
            "84cd93e51eb34ed5bb84955ec4228c68",
            "79638b9589b94f3fa451c6b36afb278b",
            "73f5ff24d2ef45f2bd0ac5ae1854f685",
            "d1c033d19ed648768ad3d4121111ce4e",
            "6d3ff2154abd4243a30805eddd3bb0b5",
            "021e3bb1886f473db9f55e53728590bf",
            "eb75397ad0c8434cbf3a4318e6297d47",
            "7b0a3689c0aa4c02b0e6ad19009b4528",
            "fac5955e546345e3ba4537e3abc4978a",
            "06655fbd34ad4c97b0e70b03c50895c8",
            "7b3aebb64e6e4d07a57eb1427be08ded",
            "e2aa58a34ec54342a41cea60ab3dde13",
            "67f69ccdf83b4e1887ab99631c6b05bb",
            "83746e6ed7a04374bf4db38dce577e74",
            "785d0139f2ed4226933e25f98ba0eac4",
            "f34a4f45fae04893a4e887e02966e5a5",
            "38d2354c8af04b018e8c0c0fa394d0ae",
            "796f954bc01747fcbc28c5710811cb1b",
            "11a69586313a4a1d97ad1e4d83f02f6e",
            "df91362bd4a54eb99df50b591a722b31",
            "08f9de5f06cb40dab7a5de9db1d715ee",
            "470336e1017a4ce484fc0d16e81e4717",
            "814ba66cee4a4840bdb00579a347fbae",
            "6318b81c7bb94fe883c0e029871ae359",
            "062036e0f45b4e00870718a254865841",
            "c4b4750651844f1d955012727922946f",
            "b1d483c621a947c5b97a36991d26895f",
            "ffc9f1a5e1a84b37af40de6c9fea5d6d",
            "95d97632e52f4b3b88c297e03c8162c5",
            "03a77778bbbb41c5b8ecfaf63d29428a",
            "31da187c04df4778a2788ef21a280c1c",
            "76b679f7684e4e1fa0934345e093a2f0",
            "24e18104d00d4c0eba1ac25b2f3d07ba",
            "05e32fa453c0419b864cbe5c14611bec",
            "206ca1e157644adc90bb292d9aea44dc",
            "095466a34fa94830968a35838674ebbd",
            "2ee45173b7c84c80be6a0437d9174732",
            "7d00263edd98403880e7ee54d140b1b1",
            "a9bd614b452145759959f0fb464dfe1e",
            "c086e4a5fada450a87258efe58db5ca9",
            "999b3e3bcb884c09ac3d3caa4e4e825d",
            "f2b4fa50265849a3a8d0511133ce629c",
            "e1302cfcfcd54c80a548541223ea4169",
            "677a464f261c4fc1a6a1d6540542ec3c",
            "f12d399cf3f54c548acc2692a2be2e4d",
            "e1a47ae668ac4e619b7d829efce09d04",
            "7774ade1e25d44dd883d74ece34dc2d4",
            "9767dfc3d010424da1b371dae5a0f268",
            "607bb008b7f843d6b882887ed1591eca",
            "26d6f8a12db945adb7fea1ccd0578318",
            "a27507ef380d40c69f1a6f0d271ace21",
            "fea0268fa4cc48b7bee1b8c2bc2c62fa",
            "6dbae04033a14132b46756e4024b43e5",
            "d05b36ac455e417daac3069efadc5e52",
            "6cfa343ea2084a1ba0f71152471e1ece",
            "35eff7071f744040be08e9dcb63eedb8",
            "5a09be5b639344098cb241b0236d3bcb",
            "cc14b451201443479254dc1971028761",
            "f0a8e85f779840a4a46387aa01baf2a3",
            "e0041c901a4947658a16fbadc02a1e85"
          ]
        },
        "id": "hMkPrCZ-khpW",
        "outputId": "116b68ed-7f2e-48a5-e6d8-43a0661921aa"
      },
      "outputs": [
        {
          "output_type": "stream",
          "name": "stderr",
          "text": [
            "[nltk_data] Downloading package stopwords to /root/nltk_data...\n",
            "[nltk_data]   Unzipping corpora/stopwords.zip.\n"
          ]
        },
        {
          "output_type": "display_data",
          "data": {
            "text/plain": [
              "Downloading (…)okenizer_config.json:   0%|          | 0.00/29.0 [00:00<?, ?B/s]"
            ],
            "application/vnd.jupyter.widget-view+json": {
              "version_major": 2,
              "version_minor": 0,
              "model_id": "24051ccf944f4e199da6cce9d77ace6e"
            }
          },
          "metadata": {}
        },
        {
          "output_type": "display_data",
          "data": {
            "text/plain": [
              "Downloading (…)lve/main/config.json:   0%|          | 0.00/570 [00:00<?, ?B/s]"
            ],
            "application/vnd.jupyter.widget-view+json": {
              "version_major": 2,
              "version_minor": 0,
              "model_id": "021e3bb1886f473db9f55e53728590bf"
            }
          },
          "metadata": {}
        },
        {
          "output_type": "display_data",
          "data": {
            "text/plain": [
              "Downloading (…)solve/main/vocab.txt:   0%|          | 0.00/213k [00:00<?, ?B/s]"
            ],
            "application/vnd.jupyter.widget-view+json": {
              "version_major": 2,
              "version_minor": 0,
              "model_id": "38d2354c8af04b018e8c0c0fa394d0ae"
            }
          },
          "metadata": {}
        },
        {
          "output_type": "display_data",
          "data": {
            "text/plain": [
              "Downloading (…)/main/tokenizer.json:   0%|          | 0.00/436k [00:00<?, ?B/s]"
            ],
            "application/vnd.jupyter.widget-view+json": {
              "version_major": 2,
              "version_minor": 0,
              "model_id": "ffc9f1a5e1a84b37af40de6c9fea5d6d"
            }
          },
          "metadata": {}
        },
        {
          "output_type": "display_data",
          "data": {
            "text/plain": [
              "Map:   0%|          | 0/10003 [00:00<?, ? examples/s]"
            ],
            "application/vnd.jupyter.widget-view+json": {
              "version_major": 2,
              "version_minor": 0,
              "model_id": "a9bd614b452145759959f0fb464dfe1e"
            }
          },
          "metadata": {}
        },
        {
          "output_type": "display_data",
          "data": {
            "text/plain": [
              "Map:   0%|          | 0/3080 [00:00<?, ? examples/s]"
            ],
            "application/vnd.jupyter.widget-view+json": {
              "version_major": 2,
              "version_minor": 0,
              "model_id": "26d6f8a12db945adb7fea1ccd0578318"
            }
          },
          "metadata": {}
        }
      ],
      "source": [
        "# Download the stopwords data\n",
        "nltk.download('stopwords')\n",
        "\n",
        "# Get the list of stop words\n",
        "stop_words = set(stopwords.words('english'))\n",
        "\n",
        "tokenizer = AutoTokenizer.from_pretrained(\"bert-base-cased\")\n",
        "\n",
        "def remove_stopwords(text):\n",
        "    # Tokenize the text\n",
        "    tokens = word_tokenize(text)\n",
        "\n",
        "    # Remove stop words\n",
        "    filtered_tokens = [token for token in tokens if token.lower() not in stop_words]\n",
        "\n",
        "    # Join the filtered tokens\n",
        "    filtered_text = ' '.join(filtered_tokens)\n",
        "\n",
        "    return filtered_text\n",
        "\n",
        "def tokenize_function(examples):\n",
        "    examples[\"text\"] = [remove_stopwords(text) for text in examples[\"text\"]]\n",
        "    return tokenizer(examples[\"text\"], padding=\"max_length\", truncation=True)\n",
        "\n",
        "tokenized_datasets = dataset_dict.map(tokenize_function, batched=True)\n",
        "\n",
        "# Tokenize the text\n",
        "tokens = [word for text in tokenized_datasets[\"train\"]['text'] for word in word_tokenize(text)]\n",
        "\n",
        "# Compute word frequencies\n",
        "word_freq = FreqDist(tokens)"
      ]
    },
    {
      "cell_type": "code",
      "execution_count": null,
      "metadata": {
        "colab": {
          "base_uri": "https://localhost:8080/",
          "height": 607
        },
        "id": "ivHlfgsbnK_F",
        "outputId": "b4942efb-8ffa-4ae6-f60f-e040565212b5"
      },
      "outputs": [
        {
          "output_type": "display_data",
          "data": {
            "text/plain": [
              "<Figure size 1000x600 with 1 Axes>"
            ],
            "image/png": "[encoded data removed]"
          },
          "metadata": {}
        }
      ],
      "source": [
        "# Get the words and frequencies from word_freq\n",
        "words, frequencies = zip(*word_freq.most_common(25))\n",
        "\n",
        "# Plot the word frequencies as a bar graph\n",
        "plt.figure(figsize=(10, 6))\n",
        "plt.bar(words, frequencies)\n",
        "plt.xlabel('Words')\n",
        "plt.ylabel('Frequency')\n",
        "plt.title('Word Frequencies after removing stop words')\n",
        "plt.xticks(rotation=90)\n",
        "plt.tight_layout()\n",
        "plt.show()"
      ]
    },
    {
      "cell_type": "markdown",
      "metadata": {
        "id": "fELU3Yp1rOyd"
      },
      "source": [
        "# Text Classification\n",
        "### Prepare a dataset\n",
        "##### 1. Tokenizer and remove stopwords\n",
        "##### 2. Selection small data set (optional)\n",
        "### Train with PyTorch Trainer (bert-base-cased model)\n",
        "##### 1. Building a model\n",
        "##### 2. Evaluate\n",
        "##### 3. Training arguments\n",
        "##### 4. Trainer (Fine-tune)\n",
        "##### 5. Training summary from previous runs\n"
      ]
    },
    {
      "cell_type": "markdown",
      "metadata": {
        "id": "Rf6zAjRFjDyu"
      },
      "source": [
        "## Prepare a dataset\n"
      ]
    },
    {
      "cell_type": "markdown",
      "metadata": {
        "id": "v1cgM2-TsFN5"
      },
      "source": [
        "### 1. Tokenizer and remove stopwords"
      ]
    },
    {
      "cell_type": "code",
      "execution_count": null,
      "metadata": {
        "colab": {
          "base_uri": "https://localhost:8080/",
          "height": 53,
          "referenced_widgets": [
            "847ed714339f4668a92a958a3536bfd3",
            "86efb55ffb194383b4b809c0db30b6cb",
            "a1df9a76997a4a739db77e2341aac52b",
            "469932c015ce42eca1253af08c633335",
            "5a25dc1d506247a4920b421311202a5e",
            "7acfb3345773409ca2c6a5c40e002487",
            "ae260c2379eb434ea51fda3af9f41195",
            "e7947bdfc7fe4aceacac31e6a6571896",
            "e5eaa732e0734136b113ce0e5b18cb79",
            "34a17b311dd841edaae4e920a232507c",
            "b2c63ab0dc1841a9877670f0844aac74",
            "e81a1304aeb042b18241f5a1a7a6fa59",
            "d846de10550644f8a88d802e111f3fc2",
            "23244808d6774923ac936bfd2c81690a",
            "971869c324dd46f3ad9bb9af164b1dbc",
            "a0d2d9ab9dad4655adf637f13af82d3b",
            "0b09b6e6dd5a460783229a1b73c7974a",
            "d4d6f157a82440d29561bd8f498151c9",
            "6b2504b3d9884f20b28cb16230327507",
            "31137db4ffc645fda33c9a7ecb5d395b",
            "61f02448411941b9908213685a3dfd09",
            "0b289db3bb35443dbd65a46ee85bcca6"
          ]
        },
        "id": "TdmWHk3VdEw5",
        "outputId": "341fe8d7-1e67-4206-8d2e-b4b6af37cfb6"
      },
      "outputs": [
        {
          "output_type": "stream",
          "name": "stderr",
          "text": [
            "[nltk_data] Downloading package stopwords to /root/nltk_data...\n",
            "[nltk_data]   Package stopwords is already up-to-date!\n"
          ]
        },
        {
          "output_type": "display_data",
          "data": {
            "text/plain": [
              "Map:   0%|          | 0/10003 [00:00<?, ? examples/s]"
            ],
            "application/vnd.jupyter.widget-view+json": {
              "version_major": 2,
              "version_minor": 0,
              "model_id": "847ed714339f4668a92a958a3536bfd3"
            }
          },
          "metadata": {}
        },
        {
          "output_type": "display_data",
          "data": {
            "text/plain": [
              "Map:   0%|          | 0/3080 [00:00<?, ? examples/s]"
            ],
            "application/vnd.jupyter.widget-view+json": {
              "version_major": 2,
              "version_minor": 0,
              "model_id": "e81a1304aeb042b18241f5a1a7a6fa59"
            }
          },
          "metadata": {}
        }
      ],
      "source": [
        "# Download the stopwords data\n",
        "nltk.download('stopwords')\n",
        "\n",
        "# Get the list of stop words\n",
        "stop_words = set(stopwords.words('english'))\n",
        "\n",
        "tokenizer = AutoTokenizer.from_pretrained(\"bert-base-cased\")\n",
        "\n",
        "def remove_stopwords(text):\n",
        "    # Tokenize the text\n",
        "    tokens = text.split()\n",
        "\n",
        "    # Remove stop words\n",
        "    filtered_tokens = [token for token in tokens if token.lower() not in stop_words]\n",
        "\n",
        "    # Join the filtered tokens\n",
        "    filtered_text = ' '.join(filtered_tokens)\n",
        "\n",
        "    return filtered_text\n",
        "\n",
        "def tokenize_and_remove_stopwords_function(examples):\n",
        "    examples[\"text\"] = [remove_stopwords(text) for text in examples[\"text\"]]\n",
        "    return tokenizer(examples[\"text\"], padding=\"max_length\", truncation=True)\n",
        "\n",
        "tokenized_datasets = dataset_dict.map(tokenize_and_remove_stopwords_function, batched=True)"
      ]
    },
    {
      "cell_type": "markdown",
      "metadata": {
        "id": "s7nnnQImAUll"
      },
      "source": [
        "### 2. Selection small data set (optional)"
      ]
    },
    {
      "cell_type": "code",
      "execution_count": null,
      "metadata": {
        "colab": {
          "base_uri": "https://localhost:8080/"
        },
        "id": "GDAtmecVhxMi",
        "outputId": "1eca456f-fecc-4fbe-91d7-caeedf3946d4"
      },
      "outputs": [
        {
          "output_type": "stream",
          "name": "stdout",
          "text": [
            "Dataset({\n",
            "    features: ['text', 'label', 'input_ids', 'token_type_ids', 'attention_mask'],\n",
            "    num_rows: 10003\n",
            "})\n",
            "Dataset({\n",
            "    features: ['text', 'label', 'input_ids', 'token_type_ids', 'attention_mask'],\n",
            "    num_rows: 3080\n",
            "})\n"
          ]
        }
      ],
      "source": [
        "select_small_data_set = False\n",
        "if select_small_data_set:\n",
        "  small_train_dataset = tokenized_datasets[\"train\"].shuffle(seed=42).select(range(1000))\n",
        "  small_eval_dataset = tokenized_datasets[\"test\"].shuffle(seed=42).select(range(1000))\n",
        "else:\n",
        "  small_train_dataset = tokenized_datasets[\"train\"]\n",
        "  small_eval_dataset = tokenized_datasets[\"test\"]\n",
        "\n",
        "print(small_train_dataset)\n",
        "print(small_eval_dataset)"
      ]
    },
    {
      "cell_type": "markdown",
      "metadata": {
        "id": "e_e-GPNKjVk1"
      },
      "source": [
        "## Train with PyTorch Trainer\n"
      ]
    },
    {
      "cell_type": "markdown",
      "metadata": {
        "id": "H4pfyhMeA_RX"
      },
      "source": [
        "### 1. Building a model"
      ]
    },
    {
      "cell_type": "code",
      "execution_count": null,
      "metadata": {
        "colab": {
          "base_uri": "https://localhost:8080/",
          "height": 105,
          "referenced_widgets": [
            "f7bdf2813c5b4c93b12d71c99ae882ed",
            "de12936d1ca641e2ad1cdb3e0992fa0b",
            "62384626ebe847718bfc48bfceafa622",
            "ed1ddf5b947c4a2fa6e22304f404c1b5",
            "cff6880a86904c299c65b61ec549afcb",
            "fa1ecdfd8e0b48f6a1c5bddd9fddbadc",
            "0498142a5f49406494f16d4220d92a31",
            "5fb9b22d6dc5440aad095ca70e6b1075",
            "1b407f7232ff42c98cc8329db11f1e40",
            "d63b5515119c416e90dc749c4575c4fa",
            "e7b71714059d4a838eb62e0bad286c8a"
          ]
        },
        "id": "crCvNDwki1Xi",
        "outputId": "dbba9c5b-d894-4bd9-c01f-940f8949faea"
      },
      "outputs": [
        {
          "output_type": "display_data",
          "data": {
            "text/plain": [
              "Downloading model.safetensors:   0%|          | 0.00/436M [00:00<?, ?B/s]"
            ],
            "application/vnd.jupyter.widget-view+json": {
              "version_major": 2,
              "version_minor": 0,
              "model_id": "f7bdf2813c5b4c93b12d71c99ae882ed"
            }
          },
          "metadata": {}
        },
        {
          "output_type": "stream",
          "name": "stderr",
          "text": [
            "Some weights of BertForSequenceClassification were not initialized from the model checkpoint at bert-base-cased and are newly initialized: ['classifier.weight', 'classifier.bias']\n",
            "You should probably TRAIN this model on a down-stream task to be able to use it for predictions and inference.\n"
          ]
        }
      ],
      "source": [
        "model = AutoModelForSequenceClassification.from_pretrained(\"bert-base-cased\", num_labels=77)"
      ]
    },
    {
      "cell_type": "markdown",
      "metadata": {
        "id": "UfKuIaf7bedT"
      },
      "source": [
        "### 2. Evaluate"
      ]
    },
    {
      "cell_type": "code",
      "execution_count": null,
      "metadata": {
        "colab": {
          "base_uri": "https://localhost:8080/",
          "height": 49,
          "referenced_widgets": [
            "80da2f5ece8d48bea069e1e33c2fd504",
            "8189665c7f6c4be382aa40b7c0b9f3b3",
            "82f9b3058471426b9247f32dce160bf7",
            "e400a5316bea4fe7afc6bfd2e52825d4",
            "5855c98121f64b5bac1f3793d33a5028",
            "b449aeef9d4c42668d64b4607e43f1db",
            "1bbc4a72ad11441ead173ffcda7015a5",
            "aa03ef59f88040debd7e3850f61df8bc",
            "745c2aa5d2724e7f9082af1720ddcfb3",
            "bfd9a5ac753b4b99b89ad178f171a891",
            "0c30671cb5fd4438976d6989adf770a6"
          ]
        },
        "id": "sYEgHQA2bg0V",
        "outputId": "0cc0ae09-59c4-4b00-e7e9-9e22a5bc5c59"
      },
      "outputs": [
        {
          "output_type": "display_data",
          "data": {
            "text/plain": [
              "Downloading builder script:   0%|          | 0.00/4.20k [00:00<?, ?B/s]"
            ],
            "application/vnd.jupyter.widget-view+json": {
              "version_major": 2,
              "version_minor": 0,
              "model_id": "80da2f5ece8d48bea069e1e33c2fd504"
            }
          },
          "metadata": {}
        }
      ],
      "source": [
        "metric_accuracy = evaluate.load(\"accuracy\")\n",
        "\n",
        "def compute_metrics(eval_pred):\n",
        "    logits, labels = eval_pred\n",
        "    predictions = np.argmax(logits, axis=-1)\n",
        "\n",
        "    accuracy = metric_accuracy.compute(predictions=predictions, references=labels)\n",
        "    precision = precision_score(labels, predictions, average='weighted')\n",
        "    recall = recall_score(labels, predictions, average='weighted')\n",
        "    f1 = f1_score(labels, predictions, average='weighted')\n",
        "\n",
        "    return {\n",
        "        'accuracy': accuracy,\n",
        "        'precision': precision,\n",
        "        'recall': recall,\n",
        "        'f1': f1\n",
        "    }"
      ]
    },
    {
      "cell_type": "markdown",
      "metadata": {
        "id": "A-w0RoIom-Is"
      },
      "source": [
        "### 3. Training arguments"
      ]
    },
    {
      "cell_type": "code",
      "execution_count": null,
      "metadata": {
        "id": "qPPKYpRRdti5"
      },
      "outputs": [],
      "source": [
        "training_args = TrainingArguments(output_dir=\"test_trainer\", evaluation_strategy=\"epoch\")"
      ]
    },
    {
      "cell_type": "markdown",
      "metadata": {
        "id": "_PGvXfkUdzsV"
      },
      "source": [
        "### 4. Trainer (Fine-tune)"
      ]
    },
    {
      "cell_type": "code",
      "execution_count": null,
      "metadata": {
        "id": "Voz6U_zPd2OJ"
      },
      "outputs": [],
      "source": [
        "trainer = Trainer(\n",
        "    model=model,\n",
        "    args=training_args,\n",
        "    train_dataset=small_train_dataset,\n",
        "    eval_dataset=small_eval_dataset,\n",
        "    compute_metrics=compute_metrics,\n",
        ")"
      ]
    },
    {
      "cell_type": "code",
      "execution_count": null,
      "metadata": {
        "colab": {
          "base_uri": "https://localhost:8080/",
          "height": 353
        },
        "id": "6-WUiyBti4BS",
        "outputId": "265c822f-f43d-465c-8f19-d99097f57feb"
      },
      "outputs": [
        {
          "output_type": "stream",
          "name": "stderr",
          "text": [
            "/usr/local/lib/python3.10/dist-packages/transformers/optimization.py:411: FutureWarning: This implementation of AdamW is deprecated and will be removed in a future version. Use the PyTorch implementation torch.optim.AdamW instead, or set `no_deprecation_warning=True` to disable this warning\n",
            "  warnings.warn(\n"
          ]
        },
        {
          "output_type": "display_data",
          "data": {
            "text/plain": [
              "<IPython.core.display.HTML object>"
            ],
            "text/html": [
              "\n",
              "    <div>\n",
              "      \n",
              "      <progress value='3753' max='3753' style='width:300px; height:20px; vertical-align: middle;'></progress>\n",
              "      [3753/3753 51:04, Epoch 3/3]\n",
              "    </div>\n",
              "    <table border=\"1\" class=\"dataframe\">\n",
              "  <thead>\n",
              " <tr style=\"text-align: left;\">\n",
              "      <th>Epoch</th>\n",
              "      <th>Training Loss</th>\n",
              "      <th>Validation Loss</th>\n",
              "      <th>Accuracy</th>\n",
              "      <th>Precision</th>\n",
              "      <th>Recall</th>\n",
              "      <th>F1</th>\n",
              "    </tr>\n",
              "  </thead>\n",
              "  <tbody>\n",
              "    <tr>\n",
              "      <td>1</td>\n",
              "      <td>1.298000</td>\n",
              "      <td>0.720285</td>\n",
              "      <td>{'accuracy': 0.8243506493506494}</td>\n",
              "      <td>0.842432</td>\n",
              "      <td>0.824351</td>\n",
              "      <td>0.813481</td>\n",
              "    </tr>\n",
              "    <tr>\n",
              "      <td>2</td>\n",
              "      <td>0.431300</td>\n",
              "      <td>0.460247</td>\n",
              "      <td>{'accuracy': 0.8766233766233766}</td>\n",
              "      <td>0.890836</td>\n",
              "      <td>0.876623</td>\n",
              "      <td>0.873154</td>\n",
              "    </tr>\n",
              "    <tr>\n",
              "      <td>3</td>\n",
              "      <td>0.215700</td>\n",
              "      <td>0.417365</td>\n",
              "      <td>{'accuracy': 0.8954545454545455}</td>\n",
              "      <td>0.899796</td>\n",
              "      <td>0.895455</td>\n",
              "      <td>0.895130</td>\n",
              "    </tr>\n",
              "  </tbody>\n",
              "</table><p>"
            ]
          },
          "metadata": {}
        },
        {
          "output_type": "stream",
          "name": "stderr",
          "text": [
            "/usr/local/lib/python3.10/dist-packages/sklearn/metrics/_classification.py:1344: UndefinedMetricWarning: Precision is ill-defined and being set to 0.0 in labels with no predicted samples. Use `zero_division` parameter to control this behavior.\n",
            "  _warn_prf(average, modifier, msg_start, len(result))\n",
            "Trainer is attempting to log a value of \"{'accuracy': 0.8243506493506494}\" of type <class 'dict'> for key \"eval/accuracy\" as a scalar. This invocation of Tensorboard's writer.add_scalar() is incorrect so we dropped this attribute.\n",
            "Trainer is attempting to log a value of \"{'accuracy': 0.8766233766233766}\" of type <class 'dict'> for key \"eval/accuracy\" as a scalar. This invocation of Tensorboard's writer.add_scalar() is incorrect so we dropped this attribute.\n",
            "Trainer is attempting to log a value of \"{'accuracy': 0.8954545454545455}\" of type <class 'dict'> for key \"eval/accuracy\" as a scalar. This invocation of Tensorboard's writer.add_scalar() is incorrect so we dropped this attribute.\n"
          ]
        },
        {
          "output_type": "execute_result",
          "data": {
            "text/plain": [
              "TrainOutput(global_step=3753, training_loss=0.8903045623803691, metrics={'train_runtime': 3068.0603, 'train_samples_per_second': 9.781, 'train_steps_per_second': 1.223, 'total_flos': 7901016582896640.0, 'train_loss': 0.8903045623803691, 'epoch': 3.0})"
            ]
          },
          "metadata": {},
          "execution_count": 19
        }
      ],
      "source": [
        "trainer.train()"
      ]
    },
    {
      "cell_type": "markdown",
      "source": [
        "### 5. Training summary from previous runs"
      ],
      "metadata": {
        "id": "0r0zbSFsFtSJ"
      }
    },
    {
      "cell_type": "markdown",
      "metadata": {
        "id": "jyIQQ9N062Zb"
      },
      "source": [
        "![image.png](data:image/png;base64,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)"
      ]
    }
  ],
  "metadata": {
    "accelerator": "GPU",
    "colab": {
      "provenance": []
    },
    "kernelspec": {
      "display_name": "Python 3",
      "name": "python3"
    },
    "language_info": {
      "name": "python"
    },
    "widgets": {
      "application/vnd.jupyter.widget-state+json": {
        "24051ccf944f4e199da6cce9d77ace6e": {
          "model_module": "@jupyter-widgets/controls",
          "model_name": "HBoxModel",
          "model_module_version": "1.5.0",
          "state": {
            "_dom_classes": [],
            "_model_module": "@jupyter-widgets/controls",
            "_model_module_version": "1.5.0",
            "_model_name": "HBoxModel",
            "_view_count": null,
            "_view_module": "@jupyter-widgets/controls",
            "_view_module_version": "1.5.0",
            "_view_name": "HBoxView",
            "box_style": "",
            "children": [
              "IPY_MODEL_b2dcf29a30f74c3589e555d9cadaef37",
              "IPY_MODEL_ac45a3a674ae4bacbb8422ca894de917",
              "IPY_MODEL_4b89473d206f438eb92534556a15aa93"
            ],
            "layout": "IPY_MODEL_acb0950ce0a74d3bbb80a35d47be206c"
          }
        },
        "b2dcf29a30f74c3589e555d9cadaef37": {
          "model_module": "@jupyter-widgets/controls",
          "model_name": "HTMLModel",
          "model_module_version": "1.5.0",
          "state": {
            "_dom_classes": [],
            "_model_module": "@jupyter-widgets/controls",
            "_model_module_version": "1.5.0",
            "_model_name": "HTMLModel",
            "_view_count": null,
            "_view_module": "@jupyter-widgets/controls",
            "_view_module_version": "1.5.0",
            "_view_name": "HTMLView",
            "description": "",
            "description_tooltip": null,
            "layout": "IPY_MODEL_7890bd197e28419bac1af26712ff758f",
            "placeholder": "​",
            "style": "IPY_MODEL_84cd93e51eb34ed5bb84955ec4228c68",
            "value": "Downloading (…)okenizer_config.json: 100%"
          }
        },
        "ac45a3a674ae4bacbb8422ca894de917": {
          "model_module": "@jupyter-widgets/controls",
          "model_name": "FloatProgressModel",
          "model_module_version": "1.5.0",
          "state": {
            "_dom_classes": [],
            "_model_module": "@jupyter-widgets/controls",
            "_model_module_version": "1.5.0",
            "_model_name": "FloatProgressModel",
            "_view_count": null,
            "_view_module": "@jupyter-widgets/controls",
            "_view_module_version": "1.5.0",
            "_view_name": "ProgressView",
            "bar_style": "success",
            "description": "",
            "description_tooltip": null,
            "layout": "IPY_MODEL_79638b9589b94f3fa451c6b36afb278b",
            "max": 29,
            "min": 0,
            "orientation": "horizontal",
            "style": "IPY_MODEL_73f5ff24d2ef45f2bd0ac5ae1854f685",
            "value": 29
          }
        },
        "4b89473d206f438eb92534556a15aa93": {
          "model_module": "@jupyter-widgets/controls",
          "model_name": "HTMLModel",
          "model_module_version": "1.5.0",
          "state": {
            "_dom_classes": [],
            "_model_module": "@jupyter-widgets/controls",
            "_model_module_version": "1.5.0",
            "_model_name": "HTMLModel",
            "_view_count": null,
            "_view_module": "@jupyter-widgets/controls",
            "_view_module_version": "1.5.0",
            "_view_name": "HTMLView",
            "description": "",
            "description_tooltip": null,
            "layout": "IPY_MODEL_d1c033d19ed648768ad3d4121111ce4e",
            "placeholder": "​",
            "style": "IPY_MODEL_6d3ff2154abd4243a30805eddd3bb0b5",
            "value": " 29.0/29.0 [00:00&lt;00:00, 968B/s]"
          }
        },
        "acb0950ce0a74d3bbb80a35d47be206c": {
          "model_module": "@jupyter-widgets/base",
          "model_name": "LayoutModel",
          "model_module_version": "1.2.0",
          "state": {
            "_model_module": "@jupyter-widgets/base",
            "_model_module_version": "1.2.0",
            "_model_name": "LayoutModel",
            "_view_count": null,
            "_view_module": "@jupyter-widgets/base",
            "_view_module_version": "1.2.0",
            "_view_name": "LayoutView",
            "align_content": null,
            "align_items": null,
            "align_self": null,
            "border": null,
            "bottom": null,
            "display": null,
            "flex": null,
            "flex_flow": null,
            "grid_area": null,
            "grid_auto_columns": null,
            "grid_auto_flow": null,
            "grid_auto_rows": null,
            "grid_column": null,
            "grid_gap": null,
            "grid_row": null,
            "grid_template_areas": null,
            "grid_template_columns": null,
            "grid_template_rows": null,
            "height": null,
            "justify_content": null,
            "justify_items": null,
            "left": null,
            "margin": null,
            "max_height": null,
            "max_width": null,
            "min_height": null,
            "min_width": null,
            "object_fit": null,
            "object_position": null,
            "order": null,
            "overflow": null,
            "overflow_x": null,
            "overflow_y": null,
            "padding": null,
            "right": null,
            "top": null,
            "visibility": null,
            "width": null
          }
        },
        "7890bd197e28419bac1af26712ff758f": {
          "model_module": "@jupyter-widgets/base",
          "model_name": "LayoutModel",
          "model_module_version": "1.2.0",
          "state": {
            "_model_module": "@jupyter-widgets/base",
            "_model_module_version": "1.2.0",
            "_model_name": "LayoutModel",
            "_view_count": null,
            "_view_module": "@jupyter-widgets/base",
            "_view_module_version": "1.2.0",
            "_view_name": "LayoutView",
            "align_content": null,
            "align_items": null,
            "align_self": null,
            "border": null,
            "bottom": null,
            "display": null,
            "flex": null,
            "flex_flow": null,
            "grid_area": null,
            "grid_auto_columns": null,
            "grid_auto_flow": null,
            "grid_auto_rows": null,
            "grid_column": null,
            "grid_gap": null,
            "grid_row": null,
            "grid_template_areas": null,
            "grid_template_columns": null,
            "grid_template_rows": null,
            "height": null,
            "justify_content": null,
            "justify_items": null,
            "left": null,
            "margin": null,
            "max_height": null,
            "max_width": null,
            "min_height": null,
            "min_width": null,
            "object_fit": null,
            "object_position": null,
            "order": null,
            "overflow": null,
            "overflow_x": null,
            "overflow_y": null,
            "padding": null,
            "right": null,
            "top": null,
            "visibility": null,
            "width": null
          }
        },
        "84cd93e51eb34ed5bb84955ec4228c68": {
          "model_module": "@jupyter-widgets/controls",
          "model_name": "DescriptionStyleModel",
          "model_module_version": "1.5.0",
          "state": {
            "_model_module": "@jupyter-widgets/controls",
            "_model_module_version": "1.5.0",
            "_model_name": "DescriptionStyleModel",
            "_view_count": null,
            "_view_module": "@jupyter-widgets/base",
            "_view_module_version": "1.2.0",
            "_view_name": "StyleView",
            "description_width": ""
          }
        },
        "79638b9589b94f3fa451c6b36afb278b": {
          "model_module": "@jupyter-widgets/base",
          "model_name": "LayoutModel",
          "model_module_version": "1.2.0",
          "state": {
            "_model_module": "@jupyter-widgets/base",
            "_model_module_version": "1.2.0",
            "_model_name": "LayoutModel",
            "_view_count": null,
            "_view_module": "@jupyter-widgets/base",
            "_view_module_version": "1.2.0",
            "_view_name": "LayoutView",
            "align_content": null,
            "align_items": null,
            "align_self": null,
            "border": null,
            "bottom": null,
            "display": null,
            "flex": null,
            "flex_flow": null,
            "grid_area": null,
            "grid_auto_columns": null,
            "grid_auto_flow": null,
            "grid_auto_rows": null,
            "grid_column": null,
            "grid_gap": null,
            "grid_row": null,
            "grid_template_areas": null,
            "grid_template_columns": null,
            "grid_template_rows": null,
            "height": null,
            "justify_content": null,
            "justify_items": null,
            "left": null,
            "margin": null,
            "max_height": null,
            "max_width": null,
            "min_height": null,
            "min_width": null,
            "object_fit": null,
            "object_position": null,
            "order": null,
            "overflow": null,
            "overflow_x": null,
            "overflow_y": null,
            "padding": null,
            "right": null,
            "top": null,
            "visibility": null,
            "width": null
          }
        },
        "73f5ff24d2ef45f2bd0ac5ae1854f685": {
          "model_module": "@jupyter-widgets/controls",
          "model_name": "ProgressStyleModel",
          "model_module_version": "1.5.0",
          "state": {
            "_model_module": "@jupyter-widgets/controls",
            "_model_module_version": "1.5.0",
            "_model_name": "ProgressStyleModel",
            "_view_count": null,
            "_view_module": "@jupyter-widgets/base",
            "_view_module_version": "1.2.0",
            "_view_name": "StyleView",
            "bar_color": null,
            "description_width": ""
          }
        },
        "d1c033d19ed648768ad3d4121111ce4e": {
          "model_module": "@jupyter-widgets/base",
          "model_name": "LayoutModel",
          "model_module_version": "1.2.0",
          "state": {
            "_model_module": "@jupyter-widgets/base",
            "_model_module_version": "1.2.0",
            "_model_name": "LayoutModel",
            "_view_count": null,
            "_view_module": "@jupyter-widgets/base",
            "_view_module_version": "1.2.0",
            "_view_name": "LayoutView",
            "align_content": null,
            "align_items": null,
            "align_self": null,
            "border": null,
            "bottom": null,
            "display": null,
            "flex": null,
            "flex_flow": null,
            "grid_area": null,
            "grid_auto_columns": null,
            "grid_auto_flow": null,
            "grid_auto_rows": null,
            "grid_column": null,
            "grid_gap": null,
            "grid_row": null,
            "grid_template_areas": null,
            "grid_template_columns": null,
            "grid_template_rows": null,
            "height": null,
            "justify_content": null,
            "justify_items": null,
            "left": null,
            "margin": null,
            "max_height": null,
            "max_width": null,
            "min_height": null,
            "min_width": null,
            "object_fit": null,
            "object_position": null,
            "order": null,
            "overflow": null,
            "overflow_x": null,
            "overflow_y": null,
            "padding": null,
            "right": null,
            "top": null,
            "visibility": null,
            "width": null
          }
        },
        "6d3ff2154abd4243a30805eddd3bb0b5": {
          "model_module": "@jupyter-widgets/controls",
          "model_name": "DescriptionStyleModel",
          "model_module_version": "1.5.0",
          "state": {
            "_model_module": "@jupyter-widgets/controls",
            "_model_module_version": "1.5.0",
            "_model_name": "DescriptionStyleModel",
            "_view_count": null,
            "_view_module": "@jupyter-widgets/base",
            "_view_module_version": "1.2.0",
            "_view_name": "StyleView",
            "description_width": ""
          }
        },
        "021e3bb1886f473db9f55e53728590bf": {
          "model_module": "@jupyter-widgets/controls",
          "model_name": "HBoxModel",
          "model_module_version": "1.5.0",
          "state": {
            "_dom_classes": [],
            "_model_module": "@jupyter-widgets/controls",
            "_model_module_version": "1.5.0",
            "_model_name": "HBoxModel",
            "_view_count": null,
            "_view_module": "@jupyter-widgets/controls",
            "_view_module_version": "1.5.0",
            "_view_name": "HBoxView",
            "box_style": "",
            "children": [
              "IPY_MODEL_eb75397ad0c8434cbf3a4318e6297d47",
              "IPY_MODEL_7b0a3689c0aa4c02b0e6ad19009b4528",
              "IPY_MODEL_fac5955e546345e3ba4537e3abc4978a"
            ],
            "layout": "IPY_MODEL_06655fbd34ad4c97b0e70b03c50895c8"
          }
        },
        "eb75397ad0c8434cbf3a4318e6297d47": {
          "model_module": "@jupyter-widgets/controls",
          "model_name": "HTMLModel",
          "model_module_version": "1.5.0",
          "state": {
            "_dom_classes": [],
            "_model_module": "@jupyter-widgets/controls",
            "_model_module_version": "1.5.0",
            "_model_name": "HTMLModel",
            "_view_count": null,
            "_view_module": "@jupyter-widgets/controls",
            "_view_module_version": "1.5.0",
            "_view_name": "HTMLView",
            "description": "",
            "description_tooltip": null,
            "layout": "IPY_MODEL_7b3aebb64e6e4d07a57eb1427be08ded",
            "placeholder": "​",
            "style": "IPY_MODEL_e2aa58a34ec54342a41cea60ab3dde13",
            "value": "Downloading (…)lve/main/config.json: 100%"
          }
        },
        "7b0a3689c0aa4c02b0e6ad19009b4528": {
          "model_module": "@jupyter-widgets/controls",
          "model_name": "FloatProgressModel",
          "model_module_version": "1.5.0",
          "state": {
            "_dom_classes": [],
            "_model_module": "@jupyter-widgets/controls",
            "_model_module_version": "1.5.0",
            "_model_name": "FloatProgressModel",
            "_view_count": null,
            "_view_module": "@jupyter-widgets/controls",
            "_view_module_version": "1.5.0",
            "_view_name": "ProgressView",
            "bar_style": "success",
            "description": "",
            "description_tooltip": null,
            "layout": "IPY_MODEL_67f69ccdf83b4e1887ab99631c6b05bb",
            "max": 570,
            "min": 0,
            "orientation": "horizontal",
            "style": "IPY_MODEL_83746e6ed7a04374bf4db38dce577e74",
            "value": 570
          }
        },
        "fac5955e546345e3ba4537e3abc4978a": {
          "model_module": "@jupyter-widgets/controls",
          "model_name": "HTMLModel",
          "model_module_version": "1.5.0",
          "state": {
            "_dom_classes": [],
            "_model_module": "@jupyter-widgets/controls",
            "_model_module_version": "1.5.0",
            "_model_name": "HTMLModel",
            "_view_count": null,
            "_view_module": "@jupyter-widgets/controls",
            "_view_module_version": "1.5.0",
            "_view_name": "HTMLView",
            "description": "",
            "description_tooltip": null,
            "layout": "IPY_MODEL_785d0139f2ed4226933e25f98ba0eac4",
            "placeholder": "​",
            "style": "IPY_MODEL_f34a4f45fae04893a4e887e02966e5a5",
            "value": " 570/570 [00:00&lt;00:00, 11.6kB/s]"
          }
        },
        "06655fbd34ad4c97b0e70b03c50895c8": {
          "model_module": "@jupyter-widgets/base",
          "model_name": "LayoutModel",
          "model_module_version": "1.2.0",
          "state": {
            "_model_module": "@jupyter-widgets/base",
            "_model_module_version": "1.2.0",
            "_model_name": "LayoutModel",
            "_view_count": null,
            "_view_module": "@jupyter-widgets/base",
            "_view_module_version": "1.2.0",
            "_view_name": "LayoutView",
            "align_content": null,
            "align_items": null,
            "align_self": null,
            "border": null,
            "bottom": null,
            "display": null,
            "flex": null,
            "flex_flow": null,
            "grid_area": null,
            "grid_auto_columns": null,
            "grid_auto_flow": null,
            "grid_auto_rows": null,
            "grid_column": null,
            "grid_gap": null,
            "grid_row": null,
            "grid_template_areas": null,
            "grid_template_columns": null,
            "grid_template_rows": null,
            "height": null,
            "justify_content": null,
            "justify_items": null,
            "left": null,
            "margin": null,
            "max_height": null,
            "max_width": null,
            "min_height": null,
            "min_width": null,
            "object_fit": null,
            "object_position": null,
            "order": null,
            "overflow": null,
            "overflow_x": null,
            "overflow_y": null,
            "padding": null,
            "right": null,
            "top": null,
            "visibility": null,
            "width": null
          }
        },
        "7b3aebb64e6e4d07a57eb1427be08ded": {
          "model_module": "@jupyter-widgets/base",
          "model_name": "LayoutModel",
          "model_module_version": "1.2.0",
          "state": {
            "_model_module": "@jupyter-widgets/base",
            "_model_module_version": "1.2.0",
            "_model_name": "LayoutModel",
            "_view_count": null,
            "_view_module": "@jupyter-widgets/base",
            "_view_module_version": "1.2.0",
            "_view_name": "LayoutView",
            "align_content": null,
            "align_items": null,
            "align_self": null,
            "border": null,
            "bottom": null,
            "display": null,
            "flex": null,
            "flex_flow": null,
            "grid_area": null,
            "grid_auto_columns": null,
            "grid_auto_flow": null,
            "grid_auto_rows": null,
            "grid_column": null,
            "grid_gap": null,
            "grid_row": null,
            "grid_template_areas": null,
            "grid_template_columns": null,
            "grid_template_rows": null,
            "height": null,
            "justify_content": null,
            "justify_items": null,
            "left": null,
            "margin": null,
            "max_height": null,
            "max_width": null,
            "min_height": null,
            "min_width": null,
            "object_fit": null,
            "object_position": null,
            "order": null,
            "overflow": null,
            "overflow_x": null,
            "overflow_y": null,
            "padding": null,
            "right": null,
            "top": null,
            "visibility": null,
            "width": null
          }
        },
        "e2aa58a34ec54342a41cea60ab3dde13": {
          "model_module": "@jupyter-widgets/controls",
          "model_name": "DescriptionStyleModel",
          "model_module_version": "1.5.0",
          "state": {
            "_model_module": "@jupyter-widgets/controls",
            "_model_module_version": "1.5.0",
            "_model_name": "DescriptionStyleModel",
            "_view_count": null,
            "_view_module": "@jupyter-widgets/base",
            "_view_module_version": "1.2.0",
            "_view_name": "StyleView",
            "description_width": ""
          }
        },
        "67f69ccdf83b4e1887ab99631c6b05bb": {
          "model_module": "@jupyter-widgets/base",
          "model_name": "LayoutModel",
          "model_module_version": "1.2.0",
          "state": {
            "_model_module": "@jupyter-widgets/base",
            "_model_module_version": "1.2.0",
            "_model_name": "LayoutModel",
            "_view_count": null,
            "_view_module": "@jupyter-widgets/base",
            "_view_module_version": "1.2.0",
            "_view_name": "LayoutView",
            "align_content": null,
            "align_items": null,
            "align_self": null,
            "border": null,
            "bottom": null,
            "display": null,
            "flex": null,
            "flex_flow": null,
            "grid_area": null,
            "grid_auto_columns": null,
            "grid_auto_flow": null,
            "grid_auto_rows": null,
            "grid_column": null,
            "grid_gap": null,
            "grid_row": null,
            "grid_template_areas": null,
            "grid_template_columns": null,
            "grid_template_rows": null,
            "height": null,
            "justify_content": null,
            "justify_items": null,
            "left": null,
            "margin": null,
            "max_height": null,
            "max_width": null,
            "min_height": null,
            "min_width": null,
            "object_fit": null,
            "object_position": null,
            "order": null,
            "overflow": null,
            "overflow_x": null,
            "overflow_y": null,
            "padding": null,
            "right": null,
            "top": null,
            "visibility": null,
            "width": null
          }
        },
        "83746e6ed7a04374bf4db38dce577e74": {
          "model_module": "@jupyter-widgets/controls",
          "model_name": "ProgressStyleModel",
          "model_module_version": "1.5.0",
          "state": {
            "_model_module": "@jupyter-widgets/controls",
            "_model_module_version": "1.5.0",
            "_model_name": "ProgressStyleModel",
            "_view_count": null,
            "_view_module": "@jupyter-widgets/base",
            "_view_module_version": "1.2.0",
            "_view_name": "StyleView",
            "bar_color": null,
            "description_width": ""
          }
        },
        "785d0139f2ed4226933e25f98ba0eac4": {
          "model_module": "@jupyter-widgets/base",
          "model_name": "LayoutModel",
          "model_module_version": "1.2.0",
          "state": {
            "_model_module": "@jupyter-widgets/base",
            "_model_module_version": "1.2.0",
            "_model_name": "LayoutModel",
            "_view_count": null,
            "_view_module": "@jupyter-widgets/base",
            "_view_module_version": "1.2.0",
            "_view_name": "LayoutView",
            "align_content": null,
            "align_items": null,
            "align_self": null,
            "border": null,
            "bottom": null,
            "display": null,
            "flex": null,
            "flex_flow": null,
            "grid_area": null,
            "grid_auto_columns": null,
            "grid_auto_flow": null,
            "grid_auto_rows": null,
            "grid_column": null,
            "grid_gap": null,
            "grid_row": null,
            "grid_template_areas": null,
            "grid_template_columns": null,
            "grid_template_rows": null,
            "height": null,
            "justify_content": null,
            "justify_items": null,
            "left": null,
            "margin": null,
            "max_height": null,
            "max_width": null,
            "min_height": null,
            "min_width": null,
            "object_fit": null,
            "object_position": null,
            "order": null,
            "overflow": null,
            "overflow_x": null,
            "overflow_y": null,
            "padding": null,
            "right": null,
            "top": null,
            "visibility": null,
            "width": null
          }
        },
        "f34a4f45fae04893a4e887e02966e5a5": {
          "model_module": "@jupyter-widgets/controls",
          "model_name": "DescriptionStyleModel",
          "model_module_version": "1.5.0",
          "state": {
            "_model_module": "@jupyter-widgets/controls",
            "_model_module_version": "1.5.0",
            "_model_name": "DescriptionStyleModel",
            "_view_count": null,
            "_view_module": "@jupyter-widgets/base",
            "_view_module_version": "1.2.0",
            "_view_name": "StyleView",
            "description_width": ""
          }
        },
        "38d2354c8af04b018e8c0c0fa394d0ae": {
          "model_module": "@jupyter-widgets/controls",
          "model_name": "HBoxModel",
          "model_module_version": "1.5.0",
          "state": {
            "_dom_classes": [],
            "_model_module": "@jupyter-widgets/controls",
            "_model_module_version": "1.5.0",
            "_model_name": "HBoxModel",
            "_view_count": null,
            "_view_module": "@jupyter-widgets/controls",
            "_view_module_version": "1.5.0",
            "_view_name": "HBoxView",
            "box_style": "",
            "children": [
              "IPY_MODEL_796f954bc01747fcbc28c5710811cb1b",
              "IPY_MODEL_11a69586313a4a1d97ad1e4d83f02f6e",
              "IPY_MODEL_df91362bd4a54eb99df50b591a722b31"
            ],
            "layout": "IPY_MODEL_08f9de5f06cb40dab7a5de9db1d715ee"
          }
        },
        "796f954bc01747fcbc28c5710811cb1b": {
          "model_module": "@jupyter-widgets/controls",
          "model_name": "HTMLModel",
          "model_module_version": "1.5.0",
          "state": {
            "_dom_classes": [],
            "_model_module": "@jupyter-widgets/controls",
            "_model_module_version": "1.5.0",
            "_model_name": "HTMLModel",
            "_view_count": null,
            "_view_module": "@jupyter-widgets/controls",
            "_view_module_version": "1.5.0",
            "_view_name": "HTMLView",
            "description": "",
            "description_tooltip": null,
            "layout": "IPY_MODEL_470336e1017a4ce484fc0d16e81e4717",
            "placeholder": "​",
            "style": "IPY_MODEL_814ba66cee4a4840bdb00579a347fbae",
            "value": "Downloading (…)solve/main/vocab.txt: 100%"
          }
        },
        "11a69586313a4a1d97ad1e4d83f02f6e": {
          "model_module": "@jupyter-widgets/controls",
          "model_name": "FloatProgressModel",
          "model_module_version": "1.5.0",
          "state": {
            "_dom_classes": [],
            "_model_module": "@jupyter-widgets/controls",
            "_model_module_version": "1.5.0",
            "_model_name": "FloatProgressModel",
            "_view_count": null,
            "_view_module": "@jupyter-widgets/controls",
            "_view_module_version": "1.5.0",
            "_view_name": "ProgressView",
            "bar_style": "success",
            "description": "",
            "description_tooltip": null,
            "layout": "IPY_MODEL_6318b81c7bb94fe883c0e029871ae359",
            "max": 213450,
            "min": 0,
            "orientation": "horizontal",
            "style": "IPY_MODEL_062036e0f45b4e00870718a254865841",
            "value": 213450
          }
        },
        "df91362bd4a54eb99df50b591a722b31": {
          "model_module": "@jupyter-widgets/controls",
          "model_name": "HTMLModel",
          "model_module_version": "1.5.0",
          "state": {
            "_dom_classes": [],
            "_model_module": "@jupyter-widgets/controls",
            "_model_module_version": "1.5.0",
            "_model_name": "HTMLModel",
            "_view_count": null,
            "_view_module": "@jupyter-widgets/controls",
            "_view_module_version": "1.5.0",
            "_view_name": "HTMLView",
            "description": "",
            "description_tooltip": null,
            "layout": "IPY_MODEL_c4b4750651844f1d955012727922946f",
            "placeholder": "​",
            "style": "IPY_MODEL_b1d483c621a947c5b97a36991d26895f",
            "value": " 213k/213k [00:00&lt;00:00, 2.40MB/s]"
          }
        },
        "08f9de5f06cb40dab7a5de9db1d715ee": {
          "model_module": "@jupyter-widgets/base",
          "model_name": "LayoutModel",
          "model_module_version": "1.2.0",
          "state": {
            "_model_module": "@jupyter-widgets/base",
            "_model_module_version": "1.2.0",
            "_model_name": "LayoutModel",
            "_view_count": null,
            "_view_module": "@jupyter-widgets/base",
            "_view_module_version": "1.2.0",
            "_view_name": "LayoutView",
            "align_content": null,
            "align_items": null,
            "align_self": null,
            "border": null,
            "bottom": null,
            "display": null,
            "flex": null,
            "flex_flow": null,
            "grid_area": null,
            "grid_auto_columns": null,
            "grid_auto_flow": null,
            "grid_auto_rows": null,
            "grid_column": null,
            "grid_gap": null,
            "grid_row": null,
            "grid_template_areas": null,
            "grid_template_columns": null,
            "grid_template_rows": null,
            "height": null,
            "justify_content": null,
            "justify_items": null,
            "left": null,
            "margin": null,
            "max_height": null,
            "max_width": null,
            "min_height": null,
            "min_width": null,
            "object_fit": null,
            "object_position": null,
            "order": null,
            "overflow": null,
            "overflow_x": null,
            "overflow_y": null,
            "padding": null,
            "right": null,
            "top": null,
            "visibility": null,
            "width": null
          }
        },
        "470336e1017a4ce484fc0d16e81e4717": {
          "model_module": "@jupyter-widgets/base",
          "model_name": "LayoutModel",
          "model_module_version": "1.2.0",
          "state": {
            "_model_module": "@jupyter-widgets/base",
            "_model_module_version": "1.2.0",
            "_model_name": "LayoutModel",
            "_view_count": null,
            "_view_module": "@jupyter-widgets/base",
            "_view_module_version": "1.2.0",
            "_view_name": "LayoutView",
            "align_content": null,
            "align_items": null,
            "align_self": null,
            "border": null,
            "bottom": null,
            "display": null,
            "flex": null,
            "flex_flow": null,
            "grid_area": null,
            "grid_auto_columns": null,
            "grid_auto_flow": null,
            "grid_auto_rows": null,
            "grid_column": null,
            "grid_gap": null,
            "grid_row": null,
            "grid_template_areas": null,
            "grid_template_columns": null,
            "grid_template_rows": null,
            "height": null,
            "justify_content": null,
            "justify_items": null,
            "left": null,
            "margin": null,
            "max_height": null,
            "max_width": null,
            "min_height": null,
            "min_width": null,
            "object_fit": null,
            "object_position": null,
            "order": null,
            "overflow": null,
            "overflow_x": null,
            "overflow_y": null,
            "padding": null,
            "right": null,
            "top": null,
            "visibility": null,
            "width": null
          }
        },
        "814ba66cee4a4840bdb00579a347fbae": {
          "model_module": "@jupyter-widgets/controls",
          "model_name": "DescriptionStyleModel",
          "model_module_version": "1.5.0",
          "state": {
            "_model_module": "@jupyter-widgets/controls",
            "_model_module_version": "1.5.0",
            "_model_name": "DescriptionStyleModel",
            "_view_count": null,
            "_view_module": "@jupyter-widgets/base",
            "_view_module_version": "1.2.0",
            "_view_name": "StyleView",
            "description_width": ""
          }
        },
        "6318b81c7bb94fe883c0e029871ae359": {
          "model_module": "@jupyter-widgets/base",
          "model_name": "LayoutModel",
          "model_module_version": "1.2.0",
          "state": {
            "_model_module": "@jupyter-widgets/base",
            "_model_module_version": "1.2.0",
            "_model_name": "LayoutModel",
            "_view_count": null,
            "_view_module": "@jupyter-widgets/base",
            "_view_module_version": "1.2.0",
            "_view_name": "LayoutView",
            "align_content": null,
            "align_items": null,
            "align_self": null,
            "border": null,
            "bottom": null,
            "display": null,
            "flex": null,
            "flex_flow": null,
            "grid_area": null,
            "grid_auto_columns": null,
            "grid_auto_flow": null,
            "grid_auto_rows": null,
            "grid_column": null,
            "grid_gap": null,
            "grid_row": null,
            "grid_template_areas": null,
            "grid_template_columns": null,
            "grid_template_rows": null,
            "height": null,
            "justify_content": null,
            "justify_items": null,
            "left": null,
            "margin": null,
            "max_height": null,
            "max_width": null,
            "min_height": null,
            "min_width": null,
            "object_fit": null,
            "object_position": null,
            "order": null,
            "overflow": null,
            "overflow_x": null,
            "overflow_y": null,
            "padding": null,
            "right": null,
            "top": null,
            "visibility": null,
            "width": null
          }
        },
        "062036e0f45b4e00870718a254865841": {
          "model_module": "@jupyter-widgets/controls",
          "model_name": "ProgressStyleModel",
          "model_module_version": "1.5.0",
          "state": {
            "_model_module": "@jupyter-widgets/controls",
            "_model_module_version": "1.5.0",
            "_model_name": "ProgressStyleModel",
            "_view_count": null,
            "_view_module": "@jupyter-widgets/base",
            "_view_module_version": "1.2.0",
            "_view_name": "StyleView",
            "bar_color": null,
            "description_width": ""
          }
        },
        "c4b4750651844f1d955012727922946f": {
          "model_module": "@jupyter-widgets/base",
          "model_name": "LayoutModel",
          "model_module_version": "1.2.0",
          "state": {
            "_model_module": "@jupyter-widgets/base",
            "_model_module_version": "1.2.0",
            "_model_name": "LayoutModel",
            "_view_count": null,
            "_view_module": "@jupyter-widgets/base",
            "_view_module_version": "1.2.0",
            "_view_name": "LayoutView",
            "align_content": null,
            "align_items": null,
            "align_self": null,
            "border": null,
            "bottom": null,
            "display": null,
            "flex": null,
            "flex_flow": null,
            "grid_area": null,
            "grid_auto_columns": null,
            "grid_auto_flow": null,
            "grid_auto_rows": null,
            "grid_column": null,
            "grid_gap": null,
            "grid_row": null,
            "grid_template_areas": null,
            "grid_template_columns": null,
            "grid_template_rows": null,
            "height": null,
            "justify_content": null,
            "justify_items": null,
            "left": null,
            "margin": null,
            "max_height": null,
            "max_width": null,
            "min_height": null,
            "min_width": null,
            "object_fit": null,
            "object_position": null,
            "order": null,
            "overflow": null,
            "overflow_x": null,
            "overflow_y": null,
            "padding": null,
            "right": null,
            "top": null,
            "visibility": null,
            "width": null
          }
        },
        "b1d483c621a947c5b97a36991d26895f": {
          "model_module": "@jupyter-widgets/controls",
          "model_name": "DescriptionStyleModel",
          "model_module_version": "1.5.0",
          "state": {
            "_model_module": "@jupyter-widgets/controls",
            "_model_module_version": "1.5.0",
            "_model_name": "DescriptionStyleModel",
            "_view_count": null,
            "_view_module": "@jupyter-widgets/base",
            "_view_module_version": "1.2.0",
            "_view_name": "StyleView",
            "description_width": ""
          }
        },
        "ffc9f1a5e1a84b37af40de6c9fea5d6d": {
          "model_module": "@jupyter-widgets/controls",
          "model_name": "HBoxModel",
          "model_module_version": "1.5.0",
          "state": {
            "_dom_classes": [],
            "_model_module": "@jupyter-widgets/controls",
            "_model_module_version": "1.5.0",
            "_model_name": "HBoxModel",
            "_view_count": null,
            "_view_module": "@jupyter-widgets/controls",
            "_view_module_version": "1.5.0",
            "_view_name": "HBoxView",
            "box_style": "",
            "children": [
              "IPY_MODEL_95d97632e52f4b3b88c297e03c8162c5",
              "IPY_MODEL_03a77778bbbb41c5b8ecfaf63d29428a",
              "IPY_MODEL_31da187c04df4778a2788ef21a280c1c"
            ],
            "layout": "IPY_MODEL_76b679f7684e4e1fa0934345e093a2f0"
          }
        },
        "95d97632e52f4b3b88c297e03c8162c5": {
          "model_module": "@jupyter-widgets/controls",
          "model_name": "HTMLModel",
          "model_module_version": "1.5.0",
          "state": {
            "_dom_classes": [],
            "_model_module": "@jupyter-widgets/controls",
            "_model_module_version": "1.5.0",
            "_model_name": "HTMLModel",
            "_view_count": null,
            "_view_module": "@jupyter-widgets/controls",
            "_view_module_version": "1.5.0",
            "_view_name": "HTMLView",
            "description": "",
            "description_tooltip": null,
            "layout": "IPY_MODEL_24e18104d00d4c0eba1ac25b2f3d07ba",
            "placeholder": "​",
            "style": "IPY_MODEL_05e32fa453c0419b864cbe5c14611bec",
            "value": "Downloading (…)/main/tokenizer.json: 100%"
          }
        },
        "03a77778bbbb41c5b8ecfaf63d29428a": {
          "model_module": "@jupyter-widgets/controls",
          "model_name": "FloatProgressModel",
          "model_module_version": "1.5.0",
          "state": {
            "_dom_classes": [],
            "_model_module": "@jupyter-widgets/controls",
            "_model_module_version": "1.5.0",
            "_model_name": "FloatProgressModel",
            "_view_count": null,
            "_view_module": "@jupyter-widgets/controls",
            "_view_module_version": "1.5.0",
            "_view_name": "ProgressView",
            "bar_style": "success",
            "description": "",
            "description_tooltip": null,
            "layout": "IPY_MODEL_206ca1e157644adc90bb292d9aea44dc",
            "max": 435797,
            "min": 0,
            "orientation": "horizontal",
            "style": "IPY_MODEL_095466a34fa94830968a35838674ebbd",
            "value": 435797
          }
        },
        "31da187c04df4778a2788ef21a280c1c": {
          "model_module": "@jupyter-widgets/controls",
          "model_name": "HTMLModel",
          "model_module_version": "1.5.0",
          "state": {
            "_dom_classes": [],
            "_model_module": "@jupyter-widgets/controls",
            "_model_module_version": "1.5.0",
            "_model_name": "HTMLModel",
            "_view_count": null,
            "_view_module": "@jupyter-widgets/controls",
            "_view_module_version": "1.5.0",
            "_view_name": "HTMLView",
            "description": "",
            "description_tooltip": null,
            "layout": "IPY_MODEL_2ee45173b7c84c80be6a0437d9174732",
            "placeholder": "​",
            "style": "IPY_MODEL_7d00263edd98403880e7ee54d140b1b1",
            "value": " 436k/436k [00:00&lt;00:00, 8.51MB/s]"
          }
        },
        "76b679f7684e4e1fa0934345e093a2f0": {
          "model_module": "@jupyter-widgets/base",
          "model_name": "LayoutModel",
          "model_module_version": "1.2.0",
          "state": {
            "_model_module": "@jupyter-widgets/base",
            "_model_module_version": "1.2.0",
            "_model_name": "LayoutModel",
            "_view_count": null,
            "_view_module": "@jupyter-widgets/base",
            "_view_module_version": "1.2.0",
            "_view_name": "LayoutView",
            "align_content": null,
            "align_items": null,
            "align_self": null,
            "border": null,
            "bottom": null,
            "display": null,
            "flex": null,
            "flex_flow": null,
            "grid_area": null,
            "grid_auto_columns": null,
            "grid_auto_flow": null,
            "grid_auto_rows": null,
            "grid_column": null,
            "grid_gap": null,
            "grid_row": null,
            "grid_template_areas": null,
            "grid_template_columns": null,
            "grid_template_rows": null,
            "height": null,
            "justify_content": null,
            "justify_items": null,
            "left": null,
            "margin": null,
            "max_height": null,
            "max_width": null,
            "min_height": null,
            "min_width": null,
            "object_fit": null,
            "object_position": null,
            "order": null,
            "overflow": null,
            "overflow_x": null,
            "overflow_y": null,
            "padding": null,
            "right": null,
            "top": null,
            "visibility": null,
            "width": null
          }
        },
        "24e18104d00d4c0eba1ac25b2f3d07ba": {
          "model_module": "@jupyter-widgets/base",
          "model_name": "LayoutModel",
          "model_module_version": "1.2.0",
          "state": {
            "_model_module": "@jupyter-widgets/base",
            "_model_module_version": "1.2.0",
            "_model_name": "LayoutModel",
            "_view_count": null,
            "_view_module": "@jupyter-widgets/base",
            "_view_module_version": "1.2.0",
            "_view_name": "LayoutView",
            "align_content": null,
            "align_items": null,
            "align_self": null,
            "border": null,
            "bottom": null,
            "display": null,
            "flex": null,
            "flex_flow": null,
            "grid_area": null,
            "grid_auto_columns": null,
            "grid_auto_flow": null,
            "grid_auto_rows": null,
            "grid_column": null,
            "grid_gap": null,
            "grid_row": null,
            "grid_template_areas": null,
            "grid_template_columns": null,
            "grid_template_rows": null,
            "height": null,
            "justify_content": null,
            "justify_items": null,
            "left": null,
            "margin": null,
            "max_height": null,
            "max_width": null,
            "min_height": null,
            "min_width": null,
            "object_fit": null,
            "object_position": null,
            "order": null,
            "overflow": null,
            "overflow_x": null,
            "overflow_y": null,
            "padding": null,
            "right": null,
            "top": null,
            "visibility": null,
            "width": null
          }
        },
        "05e32fa453c0419b864cbe5c14611bec": {
          "model_module": "@jupyter-widgets/controls",
          "model_name": "DescriptionStyleModel",
          "model_module_version": "1.5.0",
          "state": {
            "_model_module": "@jupyter-widgets/controls",
            "_model_module_version": "1.5.0",
            "_model_name": "DescriptionStyleModel",
            "_view_count": null,
            "_view_module": "@jupyter-widgets/base",
            "_view_module_version": "1.2.0",
            "_view_name": "StyleView",
            "description_width": ""
          }
        },
        "206ca1e157644adc90bb292d9aea44dc": {
          "model_module": "@jupyter-widgets/base",
          "model_name": "LayoutModel",
          "model_module_version": "1.2.0",
          "state": {
            "_model_module": "@jupyter-widgets/base",
            "_model_module_version": "1.2.0",
            "_model_name": "LayoutModel",
            "_view_count": null,
            "_view_module": "@jupyter-widgets/base",
            "_view_module_version": "1.2.0",
            "_view_name": "LayoutView",
            "align_content": null,
            "align_items": null,
            "align_self": null,
            "border": null,
            "bottom": null,
            "display": null,
            "flex": null,
            "flex_flow": null,
            "grid_area": null,
            "grid_auto_columns": null,
            "grid_auto_flow": null,
            "grid_auto_rows": null,
            "grid_column": null,
            "grid_gap": null,
            "grid_row": null,
            "grid_template_areas": null,
            "grid_template_columns": null,
            "grid_template_rows": null,
            "height": null,
            "justify_content": null,
            "justify_items": null,
            "left": null,
            "margin": null,
            "max_height": null,
            "max_width": null,
            "min_height": null,
            "min_width": null,
            "object_fit": null,
            "object_position": null,
            "order": null,
            "overflow": null,
            "overflow_x": null,
            "overflow_y": null,
            "padding": null,
            "right": null,
            "top": null,
            "visibility": null,
            "width": null
          }
        },
        "095466a34fa94830968a35838674ebbd": {
          "model_module": "@jupyter-widgets/controls",
          "model_name": "ProgressStyleModel",
          "model_module_version": "1.5.0",
          "state": {
            "_model_module": "@jupyter-widgets/controls",
            "_model_module_version": "1.5.0",
            "_model_name": "ProgressStyleModel",
            "_view_count": null,
            "_view_module": "@jupyter-widgets/base",
            "_view_module_version": "1.2.0",
            "_view_name": "StyleView",
            "bar_color": null,
            "description_width": ""
          }
        },
        "2ee45173b7c84c80be6a0437d9174732": {
          "model_module": "@jupyter-widgets/base",
          "model_name": "LayoutModel",
          "model_module_version": "1.2.0",
          "state": {
            "_model_module": "@jupyter-widgets/base",
            "_model_module_version": "1.2.0",
            "_model_name": "LayoutModel",
            "_view_count": null,
            "_view_module": "@jupyter-widgets/base",
            "_view_module_version": "1.2.0",
            "_view_name": "LayoutView",
            "align_content": null,
            "align_items": null,
            "align_self": null,
            "border": null,
            "bottom": null,
            "display": null,
            "flex": null,
            "flex_flow": null,
            "grid_area": null,
            "grid_auto_columns": null,
            "grid_auto_flow": null,
            "grid_auto_rows": null,
            "grid_column": null,
            "grid_gap": null,
            "grid_row": null,
            "grid_template_areas": null,
            "grid_template_columns": null,
            "grid_template_rows": null,
            "height": null,
            "justify_content": null,
            "justify_items": null,
            "left": null,
            "margin": null,
            "max_height": null,
            "max_width": null,
            "min_height": null,
            "min_width": null,
            "object_fit": null,
            "object_position": null,
            "order": null,
            "overflow": null,
            "overflow_x": null,
            "overflow_y": null,
            "padding": null,
            "right": null,
            "top": null,
            "visibility": null,
            "width": null
          }
        },
        "7d00263edd98403880e7ee54d140b1b1": {
          "model_module": "@jupyter-widgets/controls",
          "model_name": "DescriptionStyleModel",
          "model_module_version": "1.5.0",
          "state": {
            "_model_module": "@jupyter-widgets/controls",
            "_model_module_version": "1.5.0",
            "_model_name": "DescriptionStyleModel",
            "_view_count": null,
            "_view_module": "@jupyter-widgets/base",
            "_view_module_version": "1.2.0",
            "_view_name": "StyleView",
            "description_width": ""
          }
        },
        "a9bd614b452145759959f0fb464dfe1e": {
          "model_module": "@jupyter-widgets/controls",
          "model_name": "HBoxModel",
          "model_module_version": "1.5.0",
          "state": {
            "_dom_classes": [],
            "_model_module": "@jupyter-widgets/controls",
            "_model_module_version": "1.5.0",
            "_model_name": "HBoxModel",
            "_view_count": null,
            "_view_module": "@jupyter-widgets/controls",
            "_view_module_version": "1.5.0",
            "_view_name": "HBoxView",
            "box_style": "",
            "children": [
              "IPY_MODEL_c086e4a5fada450a87258efe58db5ca9",
              "IPY_MODEL_999b3e3bcb884c09ac3d3caa4e4e825d",
              "IPY_MODEL_f2b4fa50265849a3a8d0511133ce629c"
            ],
            "layout": "IPY_MODEL_e1302cfcfcd54c80a548541223ea4169"
          }
        },
        "c086e4a5fada450a87258efe58db5ca9": {
          "model_module": "@jupyter-widgets/controls",
          "model_name": "HTMLModel",
          "model_module_version": "1.5.0",
          "state": {
            "_dom_classes": [],
            "_model_module": "@jupyter-widgets/controls",
            "_model_module_version": "1.5.0",
            "_model_name": "HTMLModel",
            "_view_count": null,
            "_view_module": "@jupyter-widgets/controls",
            "_view_module_version": "1.5.0",
            "_view_name": "HTMLView",
            "description": "",
            "description_tooltip": null,
            "layout": "IPY_MODEL_677a464f261c4fc1a6a1d6540542ec3c",
            "placeholder": "​",
            "style": "IPY_MODEL_f12d399cf3f54c548acc2692a2be2e4d",
            "value": "Map: 100%"
          }
        },
        "999b3e3bcb884c09ac3d3caa4e4e825d": {
          "model_module": "@jupyter-widgets/controls",
          "model_name": "FloatProgressModel",
          "model_module_version": "1.5.0",
          "state": {
            "_dom_classes": [],
            "_model_module": "@jupyter-widgets/controls",
            "_model_module_version": "1.5.0",
            "_model_name": "FloatProgressModel",
            "_view_count": null,
            "_view_module": "@jupyter-widgets/controls",
            "_view_module_version": "1.5.0",
            "_view_name": "ProgressView",
            "bar_style": "",
            "description": "",
            "description_tooltip": null,
            "layout": "IPY_MODEL_e1a47ae668ac4e619b7d829efce09d04",
            "max": 10003,
            "min": 0,
            "orientation": "horizontal",
            "style": "IPY_MODEL_7774ade1e25d44dd883d74ece34dc2d4",
            "value": 10003
          }
        },
        "f2b4fa50265849a3a8d0511133ce629c": {
          "model_module": "@jupyter-widgets/controls",
          "model_name": "HTMLModel",
          "model_module_version": "1.5.0",
          "state": {
            "_dom_classes": [],
            "_model_module": "@jupyter-widgets/controls",
            "_model_module_version": "1.5.0",
            "_model_name": "HTMLModel",
            "_view_count": null,
            "_view_module": "@jupyter-widgets/controls",
            "_view_module_version": "1.5.0",
            "_view_name": "HTMLView",
            "description": "",
            "description_tooltip": null,
            "layout": "IPY_MODEL_9767dfc3d010424da1b371dae5a0f268",
            "placeholder": "​",
            "style": "IPY_MODEL_607bb008b7f843d6b882887ed1591eca",
            "value": " 10000/10003 [00:10&lt;00:00, 702.17 examples/s]"
          }
        },
        "e1302cfcfcd54c80a548541223ea4169": {
          "model_module": "@jupyter-widgets/base",
          "model_name": "LayoutModel",
          "model_module_version": "1.2.0",
          "state": {
            "_model_module": "@jupyter-widgets/base",
            "_model_module_version": "1.2.0",
            "_model_name": "LayoutModel",
            "_view_count": null,
            "_view_module": "@jupyter-widgets/base",
            "_view_module_version": "1.2.0",
            "_view_name": "LayoutView",
            "align_content": null,
            "align_items": null,
            "align_self": null,
            "border": null,
            "bottom": null,
            "display": null,
            "flex": null,
            "flex_flow": null,
            "grid_area": null,
            "grid_auto_columns": null,
            "grid_auto_flow": null,
            "grid_auto_rows": null,
            "grid_column": null,
            "grid_gap": null,
            "grid_row": null,
            "grid_template_areas": null,
            "grid_template_columns": null,
            "grid_template_rows": null,
            "height": null,
            "justify_content": null,
            "justify_items": null,
            "left": null,
            "margin": null,
            "max_height": null,
            "max_width": null,
            "min_height": null,
            "min_width": null,
            "object_fit": null,
            "object_position": null,
            "order": null,
            "overflow": null,
            "overflow_x": null,
            "overflow_y": null,
            "padding": null,
            "right": null,
            "top": null,
            "visibility": "hidden",
            "width": null
          }
        },
        "677a464f261c4fc1a6a1d6540542ec3c": {
          "model_module": "@jupyter-widgets/base",
          "model_name": "LayoutModel",
          "model_module_version": "1.2.0",
          "state": {
            "_model_module": "@jupyter-widgets/base",
            "_model_module_version": "1.2.0",
            "_model_name": "LayoutModel",
            "_view_count": null,
            "_view_module": "@jupyter-widgets/base",
            "_view_module_version": "1.2.0",
            "_view_name": "LayoutView",
            "align_content": null,
            "align_items": null,
            "align_self": null,
            "border": null,
            "bottom": null,
            "display": null,
            "flex": null,
            "flex_flow": null,
            "grid_area": null,
            "grid_auto_columns": null,
            "grid_auto_flow": null,
            "grid_auto_rows": null,
            "grid_column": null,
            "grid_gap": null,
            "grid_row": null,
            "grid_template_areas": null,
            "grid_template_columns": null,
            "grid_template_rows": null,
            "height": null,
            "justify_content": null,
            "justify_items": null,
            "left": null,
            "margin": null,
            "max_height": null,
            "max_width": null,
            "min_height": null,
            "min_width": null,
            "object_fit": null,
            "object_position": null,
            "order": null,
            "overflow": null,
            "overflow_x": null,
            "overflow_y": null,
            "padding": null,
            "right": null,
            "top": null,
            "visibility": null,
            "width": null
          }
        },
        "f12d399cf3f54c548acc2692a2be2e4d": {
          "model_module": "@jupyter-widgets/controls",
          "model_name": "DescriptionStyleModel",
          "model_module_version": "1.5.0",
          "state": {
            "_model_module": "@jupyter-widgets/controls",
            "_model_module_version": "1.5.0",
            "_model_name": "DescriptionStyleModel",
            "_view_count": null,
            "_view_module": "@jupyter-widgets/base",
            "_view_module_version": "1.2.0",
            "_view_name": "StyleView",
            "description_width": ""
          }
        },
        "e1a47ae668ac4e619b7d829efce09d04": {
          "model_module": "@jupyter-widgets/base",
          "model_name": "LayoutModel",
          "model_module_version": "1.2.0",
          "state": {
            "_model_module": "@jupyter-widgets/base",
            "_model_module_version": "1.2.0",
            "_model_name": "LayoutModel",
            "_view_count": null,
            "_view_module": "@jupyter-widgets/base",
            "_view_module_version": "1.2.0",
            "_view_name": "LayoutView",
            "align_content": null,
            "align_items": null,
            "align_self": null,
            "border": null,
            "bottom": null,
            "display": null,
            "flex": null,
            "flex_flow": null,
            "grid_area": null,
            "grid_auto_columns": null,
            "grid_auto_flow": null,
            "grid_auto_rows": null,
            "grid_column": null,
            "grid_gap": null,
            "grid_row": null,
            "grid_template_areas": null,
            "grid_template_columns": null,
            "grid_template_rows": null,
            "height": null,
            "justify_content": null,
            "justify_items": null,
            "left": null,
            "margin": null,
            "max_height": null,
            "max_width": null,
            "min_height": null,
            "min_width": null,
            "object_fit": null,
            "object_position": null,
            "order": null,
            "overflow": null,
            "overflow_x": null,
            "overflow_y": null,
            "padding": null,
            "right": null,
            "top": null,
            "visibility": null,
            "width": null
          }
        },
        "7774ade1e25d44dd883d74ece34dc2d4": {
          "model_module": "@jupyter-widgets/controls",
          "model_name": "ProgressStyleModel",
          "model_module_version": "1.5.0",
          "state": {
            "_model_module": "@jupyter-widgets/controls",
            "_model_module_version": "1.5.0",
            "_model_name": "ProgressStyleModel",
            "_view_count": null,
            "_view_module": "@jupyter-widgets/base",
            "_view_module_version": "1.2.0",
            "_view_name": "StyleView",
            "bar_color": null,
            "description_width": ""
          }
        },
        "9767dfc3d010424da1b371dae5a0f268": {
          "model_module": "@jupyter-widgets/base",
          "model_name": "LayoutModel",
          "model_module_version": "1.2.0",
          "state": {
            "_model_module": "@jupyter-widgets/base",
            "_model_module_version": "1.2.0",
            "_model_name": "LayoutModel",
            "_view_count": null,
            "_view_module": "@jupyter-widgets/base",
            "_view_module_version": "1.2.0",
            "_view_name": "LayoutView",
            "align_content": null,
            "align_items": null,
            "align_self": null,
            "border": null,
            "bottom": null,
            "display": null,
            "flex": null,
            "flex_flow": null,
            "grid_area": null,
            "grid_auto_columns": null,
            "grid_auto_flow": null,
            "grid_auto_rows": null,
            "grid_column": null,
            "grid_gap": null,
            "grid_row": null,
            "grid_template_areas": null,
            "grid_template_columns": null,
            "grid_template_rows": null,
            "height": null,
            "justify_content": null,
            "justify_items": null,
            "left": null,
            "margin": null,
            "max_height": null,
            "max_width": null,
            "min_height": null,
            "min_width": null,
            "object_fit": null,
            "object_position": null,
            "order": null,
            "overflow": null,
            "overflow_x": null,
            "overflow_y": null,
            "padding": null,
            "right": null,
            "top": null,
            "visibility": null,
            "width": null
          }
        },
        "607bb008b7f843d6b882887ed1591eca": {
          "model_module": "@jupyter-widgets/controls",
          "model_name": "DescriptionStyleModel",
          "model_module_version": "1.5.0",
          "state": {
            "_model_module": "@jupyter-widgets/controls",
            "_model_module_version": "1.5.0",
            "_model_name": "DescriptionStyleModel",
            "_view_count": null,
            "_view_module": "@jupyter-widgets/base",
            "_view_module_version": "1.2.0",
            "_view_name": "StyleView",
            "description_width": ""
          }
        },
        "26d6f8a12db945adb7fea1ccd0578318": {
          "model_module": "@jupyter-widgets/controls",
          "model_name": "HBoxModel",
          "model_module_version": "1.5.0",
          "state": {
            "_dom_classes": [],
            "_model_module": "@jupyter-widgets/controls",
            "_model_module_version": "1.5.0",
            "_model_name": "HBoxModel",
            "_view_count": null,
            "_view_module": "@jupyter-widgets/controls",
            "_view_module_version": "1.5.0",
            "_view_name": "HBoxView",
            "box_style": "",
            "children": [
              "IPY_MODEL_a27507ef380d40c69f1a6f0d271ace21",
              "IPY_MODEL_fea0268fa4cc48b7bee1b8c2bc2c62fa",
              "IPY_MODEL_6dbae04033a14132b46756e4024b43e5"
            ],
            "layout": "IPY_MODEL_d05b36ac455e417daac3069efadc5e52"
          }
        },
        "a27507ef380d40c69f1a6f0d271ace21": {
          "model_module": "@jupyter-widgets/controls",
          "model_name": "HTMLModel",
          "model_module_version": "1.5.0",
          "state": {
            "_dom_classes": [],
            "_model_module": "@jupyter-widgets/controls",
            "_model_module_version": "1.5.0",
            "_model_name": "HTMLModel",
            "_view_count": null,
            "_view_module": "@jupyter-widgets/controls",
            "_view_module_version": "1.5.0",
            "_view_name": "HTMLView",
            "description": "",
            "description_tooltip": null,
            "layout": "IPY_MODEL_6cfa343ea2084a1ba0f71152471e1ece",
            "placeholder": "​",
            "style": "IPY_MODEL_35eff7071f744040be08e9dcb63eedb8",
            "value": "Map:  97%"
          }
        },
        "fea0268fa4cc48b7bee1b8c2bc2c62fa": {
          "model_module": "@jupyter-widgets/controls",
          "model_name": "FloatProgressModel",
          "model_module_version": "1.5.0",
          "state": {
            "_dom_classes": [],
            "_model_module": "@jupyter-widgets/controls",
            "_model_module_version": "1.5.0",
            "_model_name": "FloatProgressModel",
            "_view_count": null,
            "_view_module": "@jupyter-widgets/controls",
            "_view_module_version": "1.5.0",
            "_view_name": "ProgressView",
            "bar_style": "",
            "description": "",
            "description_tooltip": null,
            "layout": "IPY_MODEL_5a09be5b639344098cb241b0236d3bcb",
            "max": 3080,
            "min": 0,
            "orientation": "horizontal",
            "style": "IPY_MODEL_cc14b451201443479254dc1971028761",
            "value": 3080
          }
        },
        "6dbae04033a14132b46756e4024b43e5": {
          "model_module": "@jupyter-widgets/controls",
          "model_name": "HTMLModel",
          "model_module_version": "1.5.0",
          "state": {
            "_dom_classes": [],
            "_model_module": "@jupyter-widgets/controls",
            "_model_module_version": "1.5.0",
            "_model_name": "HTMLModel",
            "_view_count": null,
            "_view_module": "@jupyter-widgets/controls",
            "_view_module_version": "1.5.0",
            "_view_name": "HTMLView",
            "description": "",
            "description_tooltip": null,
            "layout": "IPY_MODEL_f0a8e85f779840a4a46387aa01baf2a3",
            "placeholder": "​",
            "style": "IPY_MODEL_e0041c901a4947658a16fbadc02a1e85",
            "value": " 3000/3080 [00:02&lt;00:00, 1247.24 examples/s]"
          }
        },
        "d05b36ac455e417daac3069efadc5e52": {
          "model_module": "@jupyter-widgets/base",
          "model_name": "LayoutModel",
          "model_module_version": "1.2.0",
          "state": {
            "_model_module": "@jupyter-widgets/base",
            "_model_module_version": "1.2.0",
            "_model_name": "LayoutModel",
            "_view_count": null,
            "_view_module": "@jupyter-widgets/base",
            "_view_module_version": "1.2.0",
            "_view_name": "LayoutView",
            "align_content": null,
            "align_items": null,
            "align_self": null,
            "border": null,
            "bottom": null,
            "display": null,
            "flex": null,
            "flex_flow": null,
            "grid_area": null,
            "grid_auto_columns": null,
            "grid_auto_flow": null,
            "grid_auto_rows": null,
            "grid_column": null,
            "grid_gap": null,
            "grid_row": null,
            "grid_template_areas": null,
            "grid_template_columns": null,
            "grid_template_rows": null,
            "height": null,
            "justify_content": null,
            "justify_items": null,
            "left": null,
            "margin": null,
            "max_height": null,
            "max_width": null,
            "min_height": null,
            "min_width": null,
            "object_fit": null,
            "object_position": null,
            "order": null,
            "overflow": null,
            "overflow_x": null,
            "overflow_y": null,
            "padding": null,
            "right": null,
            "top": null,
            "visibility": "hidden",
            "width": null
          }
        },
        "6cfa343ea2084a1ba0f71152471e1ece": {
          "model_module": "@jupyter-widgets/base",
          "model_name": "LayoutModel",
          "model_module_version": "1.2.0",
          "state": {
            "_model_module": "@jupyter-widgets/base",
            "_model_module_version": "1.2.0",
            "_model_name": "LayoutModel",
            "_view_count": null,
            "_view_module": "@jupyter-widgets/base",
            "_view_module_version": "1.2.0",
            "_view_name": "LayoutView",
            "align_content": null,
            "align_items": null,
            "align_self": null,
            "border": null,
            "bottom": null,
            "display": null,
            "flex": null,
            "flex_flow": null,
            "grid_area": null,
            "grid_auto_columns": null,
            "grid_auto_flow": null,
            "grid_auto_rows": null,
            "grid_column": null,
            "grid_gap": null,
            "grid_row": null,
            "grid_template_areas": null,
            "grid_template_columns": null,
            "grid_template_rows": null,
            "height": null,
            "justify_content": null,
            "justify_items": null,
            "left": null,
            "margin": null,
            "max_height": null,
            "max_width": null,
            "min_height": null,
            "min_width": null,
            "object_fit": null,
            "object_position": null,
            "order": null,
            "overflow": null,
            "overflow_x": null,
            "overflow_y": null,
            "padding": null,
            "right": null,
            "top": null,
            "visibility": null,
            "width": null
          }
        },
        "35eff7071f744040be08e9dcb63eedb8": {
          "model_module": "@jupyter-widgets/controls",
          "model_name": "DescriptionStyleModel",
          "model_module_version": "1.5.0",
          "state": {
            "_model_module": "@jupyter-widgets/controls",
            "_model_module_version": "1.5.0",
            "_model_name": "DescriptionStyleModel",
            "_view_count": null,
            "_view_module": "@jupyter-widgets/base",
            "_view_module_version": "1.2.0",
            "_view_name": "StyleView",
            "description_width": ""
          }
        },
        "5a09be5b639344098cb241b0236d3bcb": {
          "model_module": "@jupyter-widgets/base",
          "model_name": "LayoutModel",
          "model_module_version": "1.2.0",
          "state": {
            "_model_module": "@jupyter-widgets/base",
            "_model_module_version": "1.2.0",
            "_model_name": "LayoutModel",
            "_view_count": null,
            "_view_module": "@jupyter-widgets/base",
            "_view_module_version": "1.2.0",
            "_view_name": "LayoutView",
            "align_content": null,
            "align_items": null,
            "align_self": null,
            "border": null,
            "bottom": null,
            "display": null,
            "flex": null,
            "flex_flow": null,
            "grid_area": null,
            "grid_auto_columns": null,
            "grid_auto_flow": null,
            "grid_auto_rows": null,
            "grid_column": null,
            "grid_gap": null,
            "grid_row": null,
            "grid_template_areas": null,
            "grid_template_columns": null,
            "grid_template_rows": null,
            "height": null,
            "justify_content": null,
            "justify_items": null,
            "left": null,
            "margin": null,
            "max_height": null,
            "max_width": null,
            "min_height": null,
            "min_width": null,
            "object_fit": null,
            "object_position": null,
            "order": null,
            "overflow": null,
            "overflow_x": null,
            "overflow_y": null,
            "padding": null,
            "right": null,
            "top": null,
            "visibility": null,
            "width": null
          }
        },
        "cc14b451201443479254dc1971028761": {
          "model_module": "@jupyter-widgets/controls",
          "model_name": "ProgressStyleModel",
          "model_module_version": "1.5.0",
          "state": {
            "_model_module": "@jupyter-widgets/controls",
            "_model_module_version": "1.5.0",
            "_model_name": "ProgressStyleModel",
            "_view_count": null,
            "_view_module": "@jupyter-widgets/base",
            "_view_module_version": "1.2.0",
            "_view_name": "StyleView",
            "bar_color": null,
            "description_width": ""
          }
        },
        "f0a8e85f779840a4a46387aa01baf2a3": {
          "model_module": "@jupyter-widgets/base",
          "model_name": "LayoutModel",
          "model_module_version": "1.2.0",
          "state": {
            "_model_module": "@jupyter-widgets/base",
            "_model_module_version": "1.2.0",
            "_model_name": "LayoutModel",
            "_view_count": null,
            "_view_module": "@jupyter-widgets/base",
            "_view_module_version": "1.2.0",
            "_view_name": "LayoutView",
            "align_content": null,
            "align_items": null,
            "align_self": null,
            "border": null,
            "bottom": null,
            "display": null,
            "flex": null,
            "flex_flow": null,
            "grid_area": null,
            "grid_auto_columns": null,
            "grid_auto_flow": null,
            "grid_auto_rows": null,
            "grid_column": null,
            "grid_gap": null,
            "grid_row": null,
            "grid_template_areas": null,
            "grid_template_columns": null,
            "grid_template_rows": null,
            "height": null,
            "justify_content": null,
            "justify_items": null,
            "left": null,
            "margin": null,
            "max_height": null,
            "max_width": null,
            "min_height": null,
            "min_width": null,
            "object_fit": null,
            "object_position": null,
            "order": null,
            "overflow": null,
            "overflow_x": null,
            "overflow_y": null,
            "padding": null,
            "right": null,
            "top": null,
            "visibility": null,
            "width": null
          }
        },
        "e0041c901a4947658a16fbadc02a1e85": {
          "model_module": "@jupyter-widgets/controls",
          "model_name": "DescriptionStyleModel",
          "model_module_version": "1.5.0",
          "state": {
            "_model_module": "@jupyter-widgets/controls",
            "_model_module_version": "1.5.0",
            "_model_name": "DescriptionStyleModel",
            "_view_count": null,
            "_view_module": "@jupyter-widgets/base",
            "_view_module_version": "1.2.0",
            "_view_name": "StyleView",
            "description_width": ""
          }
        },
        "847ed714339f4668a92a958a3536bfd3": {
          "model_module": "@jupyter-widgets/controls",
          "model_name": "HBoxModel",
          "model_module_version": "1.5.0",
          "state": {
            "_dom_classes": [],
            "_model_module": "@jupyter-widgets/controls",
            "_model_module_version": "1.5.0",
            "_model_name": "HBoxModel",
            "_view_count": null,
            "_view_module": "@jupyter-widgets/controls",
            "_view_module_version": "1.5.0",
            "_view_name": "HBoxView",
            "box_style": "",
            "children": [
              "IPY_MODEL_86efb55ffb194383b4b809c0db30b6cb",
              "IPY_MODEL_a1df9a76997a4a739db77e2341aac52b",
              "IPY_MODEL_469932c015ce42eca1253af08c633335"
            ],
            "layout": "IPY_MODEL_5a25dc1d506247a4920b421311202a5e"
          }
        },
        "86efb55ffb194383b4b809c0db30b6cb": {
          "model_module": "@jupyter-widgets/controls",
          "model_name": "HTMLModel",
          "model_module_version": "1.5.0",
          "state": {
            "_dom_classes": [],
            "_model_module": "@jupyter-widgets/controls",
            "_model_module_version": "1.5.0",
            "_model_name": "HTMLModel",
            "_view_count": null,
            "_view_module": "@jupyter-widgets/controls",
            "_view_module_version": "1.5.0",
            "_view_name": "HTMLView",
            "description": "",
            "description_tooltip": null,
            "layout": "IPY_MODEL_7acfb3345773409ca2c6a5c40e002487",
            "placeholder": "​",
            "style": "IPY_MODEL_ae260c2379eb434ea51fda3af9f41195",
            "value": "Map: 100%"
          }
        },
        "a1df9a76997a4a739db77e2341aac52b": {
          "model_module": "@jupyter-widgets/controls",
          "model_name": "FloatProgressModel",
          "model_module_version": "1.5.0",
          "state": {
            "_dom_classes": [],
            "_model_module": "@jupyter-widgets/controls",
            "_model_module_version": "1.5.0",
            "_model_name": "FloatProgressModel",
            "_view_count": null,
            "_view_module": "@jupyter-widgets/controls",
            "_view_module_version": "1.5.0",
            "_view_name": "ProgressView",
            "bar_style": "",
            "description": "",
            "description_tooltip": null,
            "layout": "IPY_MODEL_e7947bdfc7fe4aceacac31e6a6571896",
            "max": 10003,
            "min": 0,
            "orientation": "horizontal",
            "style": "IPY_MODEL_e5eaa732e0734136b113ce0e5b18cb79",
            "value": 10003
          }
        },
        "469932c015ce42eca1253af08c633335": {
          "model_module": "@jupyter-widgets/controls",
          "model_name": "HTMLModel",
          "model_module_version": "1.5.0",
          "state": {
            "_dom_classes": [],
            "_model_module": "@jupyter-widgets/controls",
            "_model_module_version": "1.5.0",
            "_model_name": "HTMLModel",
            "_view_count": null,
            "_view_module": "@jupyter-widgets/controls",
            "_view_module_version": "1.5.0",
            "_view_name": "HTMLView",
            "description": "",
            "description_tooltip": null,
            "layout": "IPY_MODEL_34a17b311dd841edaae4e920a232507c",
            "placeholder": "​",
            "style": "IPY_MODEL_b2c63ab0dc1841a9877670f0844aac74",
            "value": " 10000/10003 [00:05&lt;00:00, 1374.30 examples/s]"
          }
        },
        "5a25dc1d506247a4920b421311202a5e": {
          "model_module": "@jupyter-widgets/base",
          "model_name": "LayoutModel",
          "model_module_version": "1.2.0",
          "state": {
            "_model_module": "@jupyter-widgets/base",
            "_model_module_version": "1.2.0",
            "_model_name": "LayoutModel",
            "_view_count": null,
            "_view_module": "@jupyter-widgets/base",
            "_view_module_version": "1.2.0",
            "_view_name": "LayoutView",
            "align_content": null,
            "align_items": null,
            "align_self": null,
            "border": null,
            "bottom": null,
            "display": null,
            "flex": null,
            "flex_flow": null,
            "grid_area": null,
            "grid_auto_columns": null,
            "grid_auto_flow": null,
            "grid_auto_rows": null,
            "grid_column": null,
            "grid_gap": null,
            "grid_row": null,
            "grid_template_areas": null,
            "grid_template_columns": null,
            "grid_template_rows": null,
            "height": null,
            "justify_content": null,
            "justify_items": null,
            "left": null,
            "margin": null,
            "max_height": null,
            "max_width": null,
            "min_height": null,
            "min_width": null,
            "object_fit": null,
            "object_position": null,
            "order": null,
            "overflow": null,
            "overflow_x": null,
            "overflow_y": null,
            "padding": null,
            "right": null,
            "top": null,
            "visibility": "hidden",
            "width": null
          }
        },
        "7acfb3345773409ca2c6a5c40e002487": {
          "model_module": "@jupyter-widgets/base",
          "model_name": "LayoutModel",
          "model_module_version": "1.2.0",
          "state": {
            "_model_module": "@jupyter-widgets/base",
            "_model_module_version": "1.2.0",
            "_model_name": "LayoutModel",
            "_view_count": null,
            "_view_module": "@jupyter-widgets/base",
            "_view_module_version": "1.2.0",
            "_view_name": "LayoutView",
            "align_content": null,
            "align_items": null,
            "align_self": null,
            "border": null,
            "bottom": null,
            "display": null,
            "flex": null,
            "flex_flow": null,
            "grid_area": null,
            "grid_auto_columns": null,
            "grid_auto_flow": null,
            "grid_auto_rows": null,
            "grid_column": null,
            "grid_gap": null,
            "grid_row": null,
            "grid_template_areas": null,
            "grid_template_columns": null,
            "grid_template_rows": null,
            "height": null,
            "justify_content": null,
            "justify_items": null,
            "left": null,
            "margin": null,
            "max_height": null,
            "max_width": null,
            "min_height": null,
            "min_width": null,
            "object_fit": null,
            "object_position": null,
            "order": null,
            "overflow": null,
            "overflow_x": null,
            "overflow_y": null,
            "padding": null,
            "right": null,
            "top": null,
            "visibility": null,
            "width": null
          }
        },
        "ae260c2379eb434ea51fda3af9f41195": {
          "model_module": "@jupyter-widgets/controls",
          "model_name": "DescriptionStyleModel",
          "model_module_version": "1.5.0",
          "state": {
            "_model_module": "@jupyter-widgets/controls",
            "_model_module_version": "1.5.0",
            "_model_name": "DescriptionStyleModel",
            "_view_count": null,
            "_view_module": "@jupyter-widgets/base",
            "_view_module_version": "1.2.0",
            "_view_name": "StyleView",
            "description_width": ""
          }
        },
        "e7947bdfc7fe4aceacac31e6a6571896": {
          "model_module": "@jupyter-widgets/base",
          "model_name": "LayoutModel",
          "model_module_version": "1.2.0",
          "state": {
            "_model_module": "@jupyter-widgets/base",
            "_model_module_version": "1.2.0",
            "_model_name": "LayoutModel",
            "_view_count": null,
            "_view_module": "@jupyter-widgets/base",
            "_view_module_version": "1.2.0",
            "_view_name": "LayoutView",
            "align_content": null,
            "align_items": null,
            "align_self": null,
            "border": null,
            "bottom": null,
            "display": null,
            "flex": null,
            "flex_flow": null,
            "grid_area": null,
            "grid_auto_columns": null,
            "grid_auto_flow": null,
            "grid_auto_rows": null,
            "grid_column": null,
            "grid_gap": null,
            "grid_row": null,
            "grid_template_areas": null,
            "grid_template_columns": null,
            "grid_template_rows": null,
            "height": null,
            "justify_content": null,
            "justify_items": null,
            "left": null,
            "margin": null,
            "max_height": null,
            "max_width": null,
            "min_height": null,
            "min_width": null,
            "object_fit": null,
            "object_position": null,
            "order": null,
            "overflow": null,
            "overflow_x": null,
            "overflow_y": null,
            "padding": null,
            "right": null,
            "top": null,
            "visibility": null,
            "width": null
          }
        },
        "e5eaa732e0734136b113ce0e5b18cb79": {
          "model_module": "@jupyter-widgets/controls",
          "model_name": "ProgressStyleModel",
          "model_module_version": "1.5.0",
          "state": {
            "_model_module": "@jupyter-widgets/controls",
            "_model_module_version": "1.5.0",
            "_model_name": "ProgressStyleModel",
            "_view_count": null,
            "_view_module": "@jupyter-widgets/base",
            "_view_module_version": "1.2.0",
            "_view_name": "StyleView",
            "bar_color": null,
            "description_width": ""
          }
        },
        "34a17b311dd841edaae4e920a232507c": {
          "model_module": "@jupyter-widgets/base",
          "model_name": "LayoutModel",
          "model_module_version": "1.2.0",
          "state": {
            "_model_module": "@jupyter-widgets/base",
            "_model_module_version": "1.2.0",
            "_model_name": "LayoutModel",
            "_view_count": null,
            "_view_module": "@jupyter-widgets/base",
            "_view_module_version": "1.2.0",
            "_view_name": "LayoutView",
            "align_content": null,
            "align_items": null,
            "align_self": null,
            "border": null,
            "bottom": null,
            "display": null,
            "flex": null,
            "flex_flow": null,
            "grid_area": null,
            "grid_auto_columns": null,
            "grid_auto_flow": null,
            "grid_auto_rows": null,
            "grid_column": null,
            "grid_gap": null,
            "grid_row": null,
            "grid_template_areas": null,
            "grid_template_columns": null,
            "grid_template_rows": null,
            "height": null,
            "justify_content": null,
            "justify_items": null,
            "left": null,
            "margin": null,
            "max_height": null,
            "max_width": null,
            "min_height": null,
            "min_width": null,
            "object_fit": null,
            "object_position": null,
            "order": null,
            "overflow": null,
            "overflow_x": null,
            "overflow_y": null,
            "padding": null,
            "right": null,
            "top": null,
            "visibility": null,
            "width": null
          }
        },
        "b2c63ab0dc1841a9877670f0844aac74": {
          "model_module": "@jupyter-widgets/controls",
          "model_name": "DescriptionStyleModel",
          "model_module_version": "1.5.0",
          "state": {
            "_model_module": "@jupyter-widgets/controls",
            "_model_module_version": "1.5.0",
            "_model_name": "DescriptionStyleModel",
            "_view_count": null,
            "_view_module": "@jupyter-widgets/base",
            "_view_module_version": "1.2.0",
            "_view_name": "StyleView",
            "description_width": ""
          }
        },
        "e81a1304aeb042b18241f5a1a7a6fa59": {
          "model_module": "@jupyter-widgets/controls",
          "model_name": "HBoxModel",
          "model_module_version": "1.5.0",
          "state": {
            "_dom_classes": [],
            "_model_module": "@jupyter-widgets/controls",
            "_model_module_version": "1.5.0",
            "_model_name": "HBoxModel",
            "_view_count": null,
            "_view_module": "@jupyter-widgets/controls",
            "_view_module_version": "1.5.0",
            "_view_name": "HBoxView",
            "box_style": "",
            "children": [
              "IPY_MODEL_d846de10550644f8a88d802e111f3fc2",
              "IPY_MODEL_23244808d6774923ac936bfd2c81690a",
              "IPY_MODEL_971869c324dd46f3ad9bb9af164b1dbc"
            ],
            "layout": "IPY_MODEL_a0d2d9ab9dad4655adf637f13af82d3b"
          }
        },
        "d846de10550644f8a88d802e111f3fc2": {
          "model_module": "@jupyter-widgets/controls",
          "model_name": "HTMLModel",
          "model_module_version": "1.5.0",
          "state": {
            "_dom_classes": [],
            "_model_module": "@jupyter-widgets/controls",
            "_model_module_version": "1.5.0",
            "_model_name": "HTMLModel",
            "_view_count": null,
            "_view_module": "@jupyter-widgets/controls",
            "_view_module_version": "1.5.0",
            "_view_name": "HTMLView",
            "description": "",
            "description_tooltip": null,
            "layout": "IPY_MODEL_0b09b6e6dd5a460783229a1b73c7974a",
            "placeholder": "​",
            "style": "IPY_MODEL_d4d6f157a82440d29561bd8f498151c9",
            "value": "Map:  97%"
          }
        },
        "23244808d6774923ac936bfd2c81690a": {
          "model_module": "@jupyter-widgets/controls",
          "model_name": "FloatProgressModel",
          "model_module_version": "1.5.0",
          "state": {
            "_dom_classes": [],
            "_model_module": "@jupyter-widgets/controls",
            "_model_module_version": "1.5.0",
            "_model_name": "FloatProgressModel",
            "_view_count": null,
            "_view_module": "@jupyter-widgets/controls",
            "_view_module_version": "1.5.0",
            "_view_name": "ProgressView",
            "bar_style": "",
            "description": "",
            "description_tooltip": null,
            "layout": "IPY_MODEL_6b2504b3d9884f20b28cb16230327507",
            "max": 3080,
            "min": 0,
            "orientation": "horizontal",
            "style": "IPY_MODEL_31137db4ffc645fda33c9a7ecb5d395b",
            "value": 3080
          }
        },
        "971869c324dd46f3ad9bb9af164b1dbc": {
          "model_module": "@jupyter-widgets/controls",
          "model_name": "HTMLModel",
          "model_module_version": "1.5.0",
          "state": {
            "_dom_classes": [],
            "_model_module": "@jupyter-widgets/controls",
            "_model_module_version": "1.5.0",
            "_model_name": "HTMLModel",
            "_view_count": null,
            "_view_module": "@jupyter-widgets/controls",
            "_view_module_version": "1.5.0",
            "_view_name": "HTMLView",
            "description": "",
            "description_tooltip": null,
            "layout": "IPY_MODEL_61f02448411941b9908213685a3dfd09",
            "placeholder": "​",
            "style": "IPY_MODEL_0b289db3bb35443dbd65a46ee85bcca6",
            "value": " 3000/3080 [00:02&lt;00:00, 1412.46 examples/s]"
          }
        },
        "a0d2d9ab9dad4655adf637f13af82d3b": {
          "model_module": "@jupyter-widgets/base",
          "model_name": "LayoutModel",
          "model_module_version": "1.2.0",
          "state": {
            "_model_module": "@jupyter-widgets/base",
            "_model_module_version": "1.2.0",
            "_model_name": "LayoutModel",
            "_view_count": null,
            "_view_module": "@jupyter-widgets/base",
            "_view_module_version": "1.2.0",
            "_view_name": "LayoutView",
            "align_content": null,
            "align_items": null,
            "align_self": null,
            "border": null,
            "bottom": null,
            "display": null,
            "flex": null,
            "flex_flow": null,
            "grid_area": null,
            "grid_auto_columns": null,
            "grid_auto_flow": null,
            "grid_auto_rows": null,
            "grid_column": null,
            "grid_gap": null,
            "grid_row": null,
            "grid_template_areas": null,
            "grid_template_columns": null,
            "grid_template_rows": null,
            "height": null,
            "justify_content": null,
            "justify_items": null,
            "left": null,
            "margin": null,
            "max_height": null,
            "max_width": null,
            "min_height": null,
            "min_width": null,
            "object_fit": null,
            "object_position": null,
            "order": null,
            "overflow": null,
            "overflow_x": null,
            "overflow_y": null,
            "padding": null,
            "right": null,
            "top": null,
            "visibility": "hidden",
            "width": null
          }
        },
        "0b09b6e6dd5a460783229a1b73c7974a": {
          "model_module": "@jupyter-widgets/base",
          "model_name": "LayoutModel",
          "model_module_version": "1.2.0",
          "state": {
            "_model_module": "@jupyter-widgets/base",
            "_model_module_version": "1.2.0",
            "_model_name": "LayoutModel",
            "_view_count": null,
            "_view_module": "@jupyter-widgets/base",
            "_view_module_version": "1.2.0",
            "_view_name": "LayoutView",
            "align_content": null,
            "align_items": null,
            "align_self": null,
            "border": null,
            "bottom": null,
            "display": null,
            "flex": null,
            "flex_flow": null,
            "grid_area": null,
            "grid_auto_columns": null,
            "grid_auto_flow": null,
            "grid_auto_rows": null,
            "grid_column": null,
            "grid_gap": null,
            "grid_row": null,
            "grid_template_areas": null,
            "grid_template_columns": null,
            "grid_template_rows": null,
            "height": null,
            "justify_content": null,
            "justify_items": null,
            "left": null,
            "margin": null,
            "max_height": null,
            "max_width": null,
            "min_height": null,
            "min_width": null,
            "object_fit": null,
            "object_position": null,
            "order": null,
            "overflow": null,
            "overflow_x": null,
            "overflow_y": null,
            "padding": null,
            "right": null,
            "top": null,
            "visibility": null,
            "width": null
          }
        },
        "d4d6f157a82440d29561bd8f498151c9": {
          "model_module": "@jupyter-widgets/controls",
          "model_name": "DescriptionStyleModel",
          "model_module_version": "1.5.0",
          "state": {
            "_model_module": "@jupyter-widgets/controls",
            "_model_module_version": "1.5.0",
            "_model_name": "DescriptionStyleModel",
            "_view_count": null,
            "_view_module": "@jupyter-widgets/base",
            "_view_module_version": "1.2.0",
            "_view_name": "StyleView",
            "description_width": ""
          }
        },
        "6b2504b3d9884f20b28cb16230327507": {
          "model_module": "@jupyter-widgets/base",
          "model_name": "LayoutModel",
          "model_module_version": "1.2.0",
          "state": {
            "_model_module": "@jupyter-widgets/base",
            "_model_module_version": "1.2.0",
            "_model_name": "LayoutModel",
            "_view_count": null,
            "_view_module": "@jupyter-widgets/base",
            "_view_module_version": "1.2.0",
            "_view_name": "LayoutView",
            "align_content": null,
            "align_items": null,
            "align_self": null,
            "border": null,
            "bottom": null,
            "display": null,
            "flex": null,
            "flex_flow": null,
            "grid_area": null,
            "grid_auto_columns": null,
            "grid_auto_flow": null,
            "grid_auto_rows": null,
            "grid_column": null,
            "grid_gap": null,
            "grid_row": null,
            "grid_template_areas": null,
            "grid_template_columns": null,
            "grid_template_rows": null,
            "height": null,
            "justify_content": null,
            "justify_items": null,
            "left": null,
            "margin": null,
            "max_height": null,
            "max_width": null,
            "min_height": null,
            "min_width": null,
            "object_fit": null,
            "object_position": null,
            "order": null,
            "overflow": null,
            "overflow_x": null,
            "overflow_y": null,
            "padding": null,
            "right": null,
            "top": null,
            "visibility": null,
            "width": null
          }
        },
        "31137db4ffc645fda33c9a7ecb5d395b": {
          "model_module": "@jupyter-widgets/controls",
          "model_name": "ProgressStyleModel",
          "model_module_version": "1.5.0",
          "state": {
            "_model_module": "@jupyter-widgets/controls",
            "_model_module_version": "1.5.0",
            "_model_name": "ProgressStyleModel",
            "_view_count": null,
            "_view_module": "@jupyter-widgets/base",
            "_view_module_version": "1.2.0",
            "_view_name": "StyleView",
            "bar_color": null,
            "description_width": ""
          }
        },
        "61f02448411941b9908213685a3dfd09": {
          "model_module": "@jupyter-widgets/base",
          "model_name": "LayoutModel",
          "model_module_version": "1.2.0",
          "state": {
            "_model_module": "@jupyter-widgets/base",
            "_model_module_version": "1.2.0",
            "_model_name": "LayoutModel",
            "_view_count": null,
            "_view_module": "@jupyter-widgets/base",
            "_view_module_version": "1.2.0",
            "_view_name": "LayoutView",
            "align_content": null,
            "align_items": null,
            "align_self": null,
            "border": null,
            "bottom": null,
            "display": null,
            "flex": null,
            "flex_flow": null,
            "grid_area": null,
            "grid_auto_columns": null,
            "grid_auto_flow": null,
            "grid_auto_rows": null,
            "grid_column": null,
            "grid_gap": null,
            "grid_row": null,
            "grid_template_areas": null,
            "grid_template_columns": null,
            "grid_template_rows": null,
            "height": null,
            "justify_content": null,
            "justify_items": null,
            "left": null,
            "margin": null,
            "max_height": null,
            "max_width": null,
            "min_height": null,
            "min_width": null,
            "object_fit": null,
            "object_position": null,
            "order": null,
            "overflow": null,
            "overflow_x": null,
            "overflow_y": null,
            "padding": null,
            "right": null,
            "top": null,
            "visibility": null,
            "width": null
          }
        },
        "0b289db3bb35443dbd65a46ee85bcca6": {
          "model_module": "@jupyter-widgets/controls",
          "model_name": "DescriptionStyleModel",
          "model_module_version": "1.5.0",
          "state": {
            "_model_module": "@jupyter-widgets/controls",
            "_model_module_version": "1.5.0",
            "_model_name": "DescriptionStyleModel",
            "_view_count": null,
            "_view_module": "@jupyter-widgets/base",
            "_view_module_version": "1.2.0",
            "_view_name": "StyleView",
            "description_width": ""
          }
        },
        "f7bdf2813c5b4c93b12d71c99ae882ed": {
          "model_module": "@jupyter-widgets/controls",
          "model_name": "HBoxModel",
          "model_module_version": "1.5.0",
          "state": {
            "_dom_classes": [],
            "_model_module": "@jupyter-widgets/controls",
            "_model_module_version": "1.5.0",
            "_model_name": "HBoxModel",
            "_view_count": null,
            "_view_module": "@jupyter-widgets/controls",
            "_view_module_version": "1.5.0",
            "_view_name": "HBoxView",
            "box_style": "",
            "children": [
              "IPY_MODEL_de12936d1ca641e2ad1cdb3e0992fa0b",
              "IPY_MODEL_62384626ebe847718bfc48bfceafa622",
              "IPY_MODEL_ed1ddf5b947c4a2fa6e22304f404c1b5"
            ],
            "layout": "IPY_MODEL_cff6880a86904c299c65b61ec549afcb"
          }
        },
        "de12936d1ca641e2ad1cdb3e0992fa0b": {
          "model_module": "@jupyter-widgets/controls",
          "model_name": "HTMLModel",
          "model_module_version": "1.5.0",
          "state": {
            "_dom_classes": [],
            "_model_module": "@jupyter-widgets/controls",
            "_model_module_version": "1.5.0",
            "_model_name": "HTMLModel",
            "_view_count": null,
            "_view_module": "@jupyter-widgets/controls",
            "_view_module_version": "1.5.0",
            "_view_name": "HTMLView",
            "description": "",
            "description_tooltip": null,
            "layout": "IPY_MODEL_fa1ecdfd8e0b48f6a1c5bddd9fddbadc",
            "placeholder": "​",
            "style": "IPY_MODEL_0498142a5f49406494f16d4220d92a31",
            "value": "Downloading model.safetensors: 100%"
          }
        },
        "62384626ebe847718bfc48bfceafa622": {
          "model_module": "@jupyter-widgets/controls",
          "model_name": "FloatProgressModel",
          "model_module_version": "1.5.0",
          "state": {
            "_dom_classes": [],
            "_model_module": "@jupyter-widgets/controls",
            "_model_module_version": "1.5.0",
            "_model_name": "FloatProgressModel",
            "_view_count": null,
            "_view_module": "@jupyter-widgets/controls",
            "_view_module_version": "1.5.0",
            "_view_name": "ProgressView",
            "bar_style": "success",
            "description": "",
            "description_tooltip": null,
            "layout": "IPY_MODEL_5fb9b22d6dc5440aad095ca70e6b1075",
            "max": 435755784,
            "min": 0,
            "orientation": "horizontal",
            "style": "IPY_MODEL_1b407f7232ff42c98cc8329db11f1e40",
            "value": 435755784
          }
        },
        "ed1ddf5b947c4a2fa6e22304f404c1b5": {
          "model_module": "@jupyter-widgets/controls",
          "model_name": "HTMLModel",
          "model_module_version": "1.5.0",
          "state": {
            "_dom_classes": [],
            "_model_module": "@jupyter-widgets/controls",
            "_model_module_version": "1.5.0",
            "_model_name": "HTMLModel",
            "_view_count": null,
            "_view_module": "@jupyter-widgets/controls",
            "_view_module_version": "1.5.0",
            "_view_name": "HTMLView",
            "description": "",
            "description_tooltip": null,
            "layout": "IPY_MODEL_d63b5515119c416e90dc749c4575c4fa",
            "placeholder": "​",
            "style": "IPY_MODEL_e7b71714059d4a838eb62e0bad286c8a",
            "value": " 436M/436M [00:04&lt;00:00, 110MB/s]"
          }
        },
        "cff6880a86904c299c65b61ec549afcb": {
          "model_module": "@jupyter-widgets/base",
          "model_name": "LayoutModel",
          "model_module_version": "1.2.0",
          "state": {
            "_model_module": "@jupyter-widgets/base",
            "_model_module_version": "1.2.0",
            "_model_name": "LayoutModel",
            "_view_count": null,
            "_view_module": "@jupyter-widgets/base",
            "_view_module_version": "1.2.0",
            "_view_name": "LayoutView",
            "align_content": null,
            "align_items": null,
            "align_self": null,
            "border": null,
            "bottom": null,
            "display": null,
            "flex": null,
            "flex_flow": null,
            "grid_area": null,
            "grid_auto_columns": null,
            "grid_auto_flow": null,
            "grid_auto_rows": null,
            "grid_column": null,
            "grid_gap": null,
            "grid_row": null,
            "grid_template_areas": null,
            "grid_template_columns": null,
            "grid_template_rows": null,
            "height": null,
            "justify_content": null,
            "justify_items": null,
            "left": null,
            "margin": null,
            "max_height": null,
            "max_width": null,
            "min_height": null,
            "min_width": null,
            "object_fit": null,
            "object_position": null,
            "order": null,
            "overflow": null,
            "overflow_x": null,
            "overflow_y": null,
            "padding": null,
            "right": null,
            "top": null,
            "visibility": null,
            "width": null
          }
        },
        "fa1ecdfd8e0b48f6a1c5bddd9fddbadc": {
          "model_module": "@jupyter-widgets/base",
          "model_name": "LayoutModel",
          "model_module_version": "1.2.0",
          "state": {
            "_model_module": "@jupyter-widgets/base",
            "_model_module_version": "1.2.0",
            "_model_name": "LayoutModel",
            "_view_count": null,
            "_view_module": "@jupyter-widgets/base",
            "_view_module_version": "1.2.0",
            "_view_name": "LayoutView",
            "align_content": null,
            "align_items": null,
            "align_self": null,
            "border": null,
            "bottom": null,
            "display": null,
            "flex": null,
            "flex_flow": null,
            "grid_area": null,
            "grid_auto_columns": null,
            "grid_auto_flow": null,
            "grid_auto_rows": null,
            "grid_column": null,
            "grid_gap": null,
            "grid_row": null,
            "grid_template_areas": null,
            "grid_template_columns": null,
            "grid_template_rows": null,
            "height": null,
            "justify_content": null,
            "justify_items": null,
            "left": null,
            "margin": null,
            "max_height": null,
            "max_width": null,
            "min_height": null,
            "min_width": null,
            "object_fit": null,
            "object_position": null,
            "order": null,
            "overflow": null,
            "overflow_x": null,
            "overflow_y": null,
            "padding": null,
            "right": null,
            "top": null,
            "visibility": null,
            "width": null
          }
        },
        "0498142a5f49406494f16d4220d92a31": {
          "model_module": "@jupyter-widgets/controls",
          "model_name": "DescriptionStyleModel",
          "model_module_version": "1.5.0",
          "state": {
            "_model_module": "@jupyter-widgets/controls",
            "_model_module_version": "1.5.0",
            "_model_name": "DescriptionStyleModel",
            "_view_count": null,
            "_view_module": "@jupyter-widgets/base",
            "_view_module_version": "1.2.0",
            "_view_name": "StyleView",
            "description_width": ""
          }
        },
        "5fb9b22d6dc5440aad095ca70e6b1075": {
          "model_module": "@jupyter-widgets/base",
          "model_name": "LayoutModel",
          "model_module_version": "1.2.0",
          "state": {
            "_model_module": "@jupyter-widgets/base",
            "_model_module_version": "1.2.0",
            "_model_name": "LayoutModel",
            "_view_count": null,
            "_view_module": "@jupyter-widgets/base",
            "_view_module_version": "1.2.0",
            "_view_name": "LayoutView",
            "align_content": null,
            "align_items": null,
            "align_self": null,
            "border": null,
            "bottom": null,
            "display": null,
            "flex": null,
            "flex_flow": null,
            "grid_area": null,
            "grid_auto_columns": null,
            "grid_auto_flow": null,
            "grid_auto_rows": null,
            "grid_column": null,
            "grid_gap": null,
            "grid_row": null,
            "grid_template_areas": null,
            "grid_template_columns": null,
            "grid_template_rows": null,
            "height": null,
            "justify_content": null,
            "justify_items": null,
            "left": null,
            "margin": null,
            "max_height": null,
            "max_width": null,
            "min_height": null,
            "min_width": null,
            "object_fit": null,
            "object_position": null,
            "order": null,
            "overflow": null,
            "overflow_x": null,
            "overflow_y": null,
            "padding": null,
            "right": null,
            "top": null,
            "visibility": null,
            "width": null
          }
        },
        "1b407f7232ff42c98cc8329db11f1e40": {
          "model_module": "@jupyter-widgets/controls",
          "model_name": "ProgressStyleModel",
          "model_module_version": "1.5.0",
          "state": {
            "_model_module": "@jupyter-widgets/controls",
            "_model_module_version": "1.5.0",
            "_model_name": "ProgressStyleModel",
            "_view_count": null,
            "_view_module": "@jupyter-widgets/base",
            "_view_module_version": "1.2.0",
            "_view_name": "StyleView",
            "bar_color": null,
            "description_width": ""
          }
        },
        "d63b5515119c416e90dc749c4575c4fa": {
          "model_module": "@jupyter-widgets/base",
          "model_name": "LayoutModel",
          "model_module_version": "1.2.0",
          "state": {
            "_model_module": "@jupyter-widgets/base",
            "_model_module_version": "1.2.0",
            "_model_name": "LayoutModel",
            "_view_count": null,
            "_view_module": "@jupyter-widgets/base",
            "_view_module_version": "1.2.0",
            "_view_name": "LayoutView",
            "align_content": null,
            "align_items": null,
            "align_self": null,
            "border": null,
            "bottom": null,
            "display": null,
            "flex": null,
            "flex_flow": null,
            "grid_area": null,
            "grid_auto_columns": null,
            "grid_auto_flow": null,
            "grid_auto_rows": null,
            "grid_column": null,
            "grid_gap": null,
            "grid_row": null,
            "grid_template_areas": null,
            "grid_template_columns": null,
            "grid_template_rows": null,
            "height": null,
            "justify_content": null,
            "justify_items": null,
            "left": null,
            "margin": null,
            "max_height": null,
            "max_width": null,
            "min_height": null,
            "min_width": null,
            "object_fit": null,
            "object_position": null,
            "order": null,
            "overflow": null,
            "overflow_x": null,
            "overflow_y": null,
            "padding": null,
            "right": null,
            "top": null,
            "visibility": null,
            "width": null
          }
        },
        "e7b71714059d4a838eb62e0bad286c8a": {
          "model_module": "@jupyter-widgets/controls",
          "model_name": "DescriptionStyleModel",
          "model_module_version": "1.5.0",
          "state": {
            "_model_module": "@jupyter-widgets/controls",
            "_model_module_version": "1.5.0",
            "_model_name": "DescriptionStyleModel",
            "_view_count": null,
            "_view_module": "@jupyter-widgets/base",
            "_view_module_version": "1.2.0",
            "_view_name": "StyleView",
            "description_width": ""
          }
        },
        "80da2f5ece8d48bea069e1e33c2fd504": {
          "model_module": "@jupyter-widgets/controls",
          "model_name": "HBoxModel",
          "model_module_version": "1.5.0",
          "state": {
            "_dom_classes": [],
            "_model_module": "@jupyter-widgets/controls",
            "_model_module_version": "1.5.0",
            "_model_name": "HBoxModel",
            "_view_count": null,
            "_view_module": "@jupyter-widgets/controls",
            "_view_module_version": "1.5.0",
            "_view_name": "HBoxView",
            "box_style": "",
            "children": [
              "IPY_MODEL_8189665c7f6c4be382aa40b7c0b9f3b3",
              "IPY_MODEL_82f9b3058471426b9247f32dce160bf7",
              "IPY_MODEL_e400a5316bea4fe7afc6bfd2e52825d4"
            ],
            "layout": "IPY_MODEL_5855c98121f64b5bac1f3793d33a5028"
          }
        },
        "8189665c7f6c4be382aa40b7c0b9f3b3": {
          "model_module": "@jupyter-widgets/controls",
          "model_name": "HTMLModel",
          "model_module_version": "1.5.0",
          "state": {
            "_dom_classes": [],
            "_model_module": "@jupyter-widgets/controls",
            "_model_module_version": "1.5.0",
            "_model_name": "HTMLModel",
            "_view_count": null,
            "_view_module": "@jupyter-widgets/controls",
            "_view_module_version": "1.5.0",
            "_view_name": "HTMLView",
            "description": "",
            "description_tooltip": null,
            "layout": "IPY_MODEL_b449aeef9d4c42668d64b4607e43f1db",
            "placeholder": "​",
            "style": "IPY_MODEL_1bbc4a72ad11441ead173ffcda7015a5",
            "value": "Downloading builder script: 100%"
          }
        },
        "82f9b3058471426b9247f32dce160bf7": {
          "model_module": "@jupyter-widgets/controls",
          "model_name": "FloatProgressModel",
          "model_module_version": "1.5.0",
          "state": {
            "_dom_classes": [],
            "_model_module": "@jupyter-widgets/controls",
            "_model_module_version": "1.5.0",
            "_model_name": "FloatProgressModel",
            "_view_count": null,
            "_view_module": "@jupyter-widgets/controls",
            "_view_module_version": "1.5.0",
            "_view_name": "ProgressView",
            "bar_style": "success",
            "description": "",
            "description_tooltip": null,
            "layout": "IPY_MODEL_aa03ef59f88040debd7e3850f61df8bc",
            "max": 4203,
            "min": 0,
            "orientation": "horizontal",
            "style": "IPY_MODEL_745c2aa5d2724e7f9082af1720ddcfb3",
            "value": 4203
          }
        },
        "e400a5316bea4fe7afc6bfd2e52825d4": {
          "model_module": "@jupyter-widgets/controls",
          "model_name": "HTMLModel",
          "model_module_version": "1.5.0",
          "state": {
            "_dom_classes": [],
            "_model_module": "@jupyter-widgets/controls",
            "_model_module_version": "1.5.0",
            "_model_name": "HTMLModel",
            "_view_count": null,
            "_view_module": "@jupyter-widgets/controls",
            "_view_module_version": "1.5.0",
            "_view_name": "HTMLView",
            "description": "",
            "description_tooltip": null,
            "layout": "IPY_MODEL_bfd9a5ac753b4b99b89ad178f171a891",
            "placeholder": "​",
            "style": "IPY_MODEL_0c30671cb5fd4438976d6989adf770a6",
            "value": " 4.20k/4.20k [00:00&lt;00:00, 78.9kB/s]"
          }
        },
        "5855c98121f64b5bac1f3793d33a5028": {
          "model_module": "@jupyter-widgets/base",
          "model_name": "LayoutModel",
          "model_module_version": "1.2.0",
          "state": {
            "_model_module": "@jupyter-widgets/base",
            "_model_module_version": "1.2.0",
            "_model_name": "LayoutModel",
            "_view_count": null,
            "_view_module": "@jupyter-widgets/base",
            "_view_module_version": "1.2.0",
            "_view_name": "LayoutView",
            "align_content": null,
            "align_items": null,
            "align_self": null,
            "border": null,
            "bottom": null,
            "display": null,
            "flex": null,
            "flex_flow": null,
            "grid_area": null,
            "grid_auto_columns": null,
            "grid_auto_flow": null,
            "grid_auto_rows": null,
            "grid_column": null,
            "grid_gap": null,
            "grid_row": null,
            "grid_template_areas": null,
            "grid_template_columns": null,
            "grid_template_rows": null,
            "height": null,
            "justify_content": null,
            "justify_items": null,
            "left": null,
            "margin": null,
            "max_height": null,
            "max_width": null,
            "min_height": null,
            "min_width": null,
            "object_fit": null,
            "object_position": null,
            "order": null,
            "overflow": null,
            "overflow_x": null,
            "overflow_y": null,
            "padding": null,
            "right": null,
            "top": null,
            "visibility": null,
            "width": null
          }
        },
        "b449aeef9d4c42668d64b4607e43f1db": {
          "model_module": "@jupyter-widgets/base",
          "model_name": "LayoutModel",
          "model_module_version": "1.2.0",
          "state": {
            "_model_module": "@jupyter-widgets/base",
            "_model_module_version": "1.2.0",
            "_model_name": "LayoutModel",
            "_view_count": null,
            "_view_module": "@jupyter-widgets/base",
            "_view_module_version": "1.2.0",
            "_view_name": "LayoutView",
            "align_content": null,
            "align_items": null,
            "align_self": null,
            "border": null,
            "bottom": null,
            "display": null,
            "flex": null,
            "flex_flow": null,
            "grid_area": null,
            "grid_auto_columns": null,
            "grid_auto_flow": null,
            "grid_auto_rows": null,
            "grid_column": null,
            "grid_gap": null,
            "grid_row": null,
            "grid_template_areas": null,
            "grid_template_columns": null,
            "grid_template_rows": null,
            "height": null,
            "justify_content": null,
            "justify_items": null,
            "left": null,
            "margin": null,
            "max_height": null,
            "max_width": null,
            "min_height": null,
            "min_width": null,
            "object_fit": null,
            "object_position": null,
            "order": null,
            "overflow": null,
            "overflow_x": null,
            "overflow_y": null,
            "padding": null,
            "right": null,
            "top": null,
            "visibility": null,
            "width": null
          }
        },
        "1bbc4a72ad11441ead173ffcda7015a5": {
          "model_module": "@jupyter-widgets/controls",
          "model_name": "DescriptionStyleModel",
          "model_module_version": "1.5.0",
          "state": {
            "_model_module": "@jupyter-widgets/controls",
            "_model_module_version": "1.5.0",
            "_model_name": "DescriptionStyleModel",
            "_view_count": null,
            "_view_module": "@jupyter-widgets/base",
            "_view_module_version": "1.2.0",
            "_view_name": "StyleView",
            "description_width": ""
          }
        },
        "aa03ef59f88040debd7e3850f61df8bc": {
          "model_module": "@jupyter-widgets/base",
          "model_name": "LayoutModel",
          "model_module_version": "1.2.0",
          "state": {
            "_model_module": "@jupyter-widgets/base",
            "_model_module_version": "1.2.0",
            "_model_name": "LayoutModel",
            "_view_count": null,
            "_view_module": "@jupyter-widgets/base",
            "_view_module_version": "1.2.0",
            "_view_name": "LayoutView",
            "align_content": null,
            "align_items": null,
            "align_self": null,
            "border": null,
            "bottom": null,
            "display": null,
            "flex": null,
            "flex_flow": null,
            "grid_area": null,
            "grid_auto_columns": null,
            "grid_auto_flow": null,
            "grid_auto_rows": null,
            "grid_column": null,
            "grid_gap": null,
            "grid_row": null,
            "grid_template_areas": null,
            "grid_template_columns": null,
            "grid_template_rows": null,
            "height": null,
            "justify_content": null,
            "justify_items": null,
            "left": null,
            "margin": null,
            "max_height": null,
            "max_width": null,
            "min_height": null,
            "min_width": null,
            "object_fit": null,
            "object_position": null,
            "order": null,
            "overflow": null,
            "overflow_x": null,
            "overflow_y": null,
            "padding": null,
            "right": null,
            "top": null,
            "visibility": null,
            "width": null
          }
        },
        "745c2aa5d2724e7f9082af1720ddcfb3": {
          "model_module": "@jupyter-widgets/controls",
          "model_name": "ProgressStyleModel",
          "model_module_version": "1.5.0",
          "state": {
            "_model_module": "@jupyter-widgets/controls",
            "_model_module_version": "1.5.0",
            "_model_name": "ProgressStyleModel",
            "_view_count": null,
            "_view_module": "@jupyter-widgets/base",
            "_view_module_version": "1.2.0",
            "_view_name": "StyleView",
            "bar_color": null,
            "description_width": ""
          }
        },
        "bfd9a5ac753b4b99b89ad178f171a891": {
          "model_module": "@jupyter-widgets/base",
          "model_name": "LayoutModel",
          "model_module_version": "1.2.0",
          "state": {
            "_model_module": "@jupyter-widgets/base",
            "_model_module_version": "1.2.0",
            "_model_name": "LayoutModel",
            "_view_count": null,
            "_view_module": "@jupyter-widgets/base",
            "_view_module_version": "1.2.0",
            "_view_name": "LayoutView",
            "align_content": null,
            "align_items": null,
            "align_self": null,
            "border": null,
            "bottom": null,
            "display": null,
            "flex": null,
            "flex_flow": null,
            "grid_area": null,
            "grid_auto_columns": null,
            "grid_auto_flow": null,
            "grid_auto_rows": null,
            "grid_column": null,
            "grid_gap": null,
            "grid_row": null,
            "grid_template_areas": null,
            "grid_template_columns": null,
            "grid_template_rows": null,
            "height": null,
            "justify_content": null,
            "justify_items": null,
            "left": null,
            "margin": null,
            "max_height": null,
            "max_width": null,
            "min_height": null,
            "min_width": null,
            "object_fit": null,
            "object_position": null,
            "order": null,
            "overflow": null,
            "overflow_x": null,
            "overflow_y": null,
            "padding": null,
            "right": null,
            "top": null,
            "visibility": null,
            "width": null
          }
        },
        "0c30671cb5fd4438976d6989adf770a6": {
          "model_module": "@jupyter-widgets/controls",
          "model_name": "DescriptionStyleModel",
          "model_module_version": "1.5.0",
          "state": {
            "_model_module": "@jupyter-widgets/controls",
            "_model_module_version": "1.5.0",
            "_model_name": "DescriptionStyleModel",
            "_view_count": null,
            "_view_module": "@jupyter-widgets/base",
            "_view_module_version": "1.2.0",
            "_view_name": "StyleView",
            "description_width": ""
          }
        }
      }
    }
  },
  "nbformat": 4,
  "nbformat_minor": 0
}